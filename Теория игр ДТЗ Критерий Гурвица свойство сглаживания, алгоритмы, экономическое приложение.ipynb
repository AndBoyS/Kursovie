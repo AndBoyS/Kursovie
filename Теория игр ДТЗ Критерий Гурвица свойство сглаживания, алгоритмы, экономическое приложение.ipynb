{
 "cells": [
  {
   "cell_type": "markdown",
   "metadata": {
    "toc": true
   },
   "source": [
    "<h1>Table of Contents<span class=\"tocSkip\"></span></h1>\n",
    "<div class=\"toc\"><ul class=\"toc-item\"><li><span><a href=\"#КРИТЕРИЙ-ГУРВИЦА:-СВОЙСТВО-СГЛАЖИВАНИЯ\" data-toc-modified-id=\"КРИТЕРИЙ-ГУРВИЦА:-СВОЙСТВО-СГЛАЖИВАНИЯ-1\"><span class=\"toc-item-num\">1&nbsp;&nbsp;</span>КРИТЕРИЙ ГУРВИЦА: СВОЙСТВО СГЛАЖИВАНИЯ</a></span><ul class=\"toc-item\"><li><span><a href=\"#Введение\" data-toc-modified-id=\"Введение-1.1\"><span class=\"toc-item-num\">1.1&nbsp;&nbsp;</span>Введение</a></span></li><li><span><a href=\"#Теоретическая-часть\" data-toc-modified-id=\"Теоретическая-часть-1.2\"><span class=\"toc-item-num\">1.2&nbsp;&nbsp;</span>Теоретическая часть</a></span><ul class=\"toc-item\"><li><ul class=\"toc-item\"><li><span><a href=\"#Алгоритм:\" data-toc-modified-id=\"Алгоритм:-1.2.0.1\"><span class=\"toc-item-num\">1.2.0.1&nbsp;&nbsp;</span>Алгоритм:</a></span></li></ul></li><li><span><a href=\"#Реализация-алгоритма-в-Python\" data-toc-modified-id=\"Реализация-алгоритма-в-Python-1.2.1\"><span class=\"toc-item-num\">1.2.1&nbsp;&nbsp;</span>Реализация алгоритма в Python</a></span><ul class=\"toc-item\"><li><span><a href=\"#Примеры-работы-алгоритма\" data-toc-modified-id=\"Примеры-работы-алгоритма-1.2.1.1\"><span class=\"toc-item-num\">1.2.1.1&nbsp;&nbsp;</span>Примеры работы алгоритма</a></span></li></ul></li></ul></li><li><span><a href=\"#Практическая-часть\" data-toc-modified-id=\"Практическая-часть-1.3\"><span class=\"toc-item-num\">1.3&nbsp;&nbsp;</span>Практическая часть</a></span><ul class=\"toc-item\"><li><ul class=\"toc-item\"><li><span><a href=\"#Формулировка\" data-toc-modified-id=\"Формулировка-1.3.0.1\"><span class=\"toc-item-num\">1.3.0.1&nbsp;&nbsp;</span>Формулировка</a></span></li><li><span><a href=\"#Формализация\" data-toc-modified-id=\"Формализация-1.3.0.2\"><span class=\"toc-item-num\">1.3.0.2&nbsp;&nbsp;</span>Формализация</a></span></li><li><span><a href=\"#Решение-в-Python\" data-toc-modified-id=\"Решение-в-Python-1.3.0.3\"><span class=\"toc-item-num\">1.3.0.3&nbsp;&nbsp;</span>Решение в Python</a></span></li></ul></li></ul></li><li><span><a href=\"#Выводы\" data-toc-modified-id=\"Выводы-1.4\"><span class=\"toc-item-num\">1.4&nbsp;&nbsp;</span>Выводы</a></span></li><li><span><a href=\"#Список-литературы\" data-toc-modified-id=\"Список-литературы-1.5\"><span class=\"toc-item-num\">1.5&nbsp;&nbsp;</span>Список литературы</a></span></li></ul></li></ul></div>"
   ]
  },
  {
   "cell_type": "markdown",
   "metadata": {},
   "source": [
    "# КРИТЕРИЙ ГУРВИЦА: СВОЙСТВО СГЛАЖИВАНИЯ"
   ]
  },
  {
   "cell_type": "markdown",
   "metadata": {},
   "source": [
    "## Введение\n",
    "&emsp;&emsp; Теория игр - это дисциплина, изучающая модели (их и называют играми), в которых лицо или лица принимают решения, пытаясь получить наибольшую выгоду для себя. Здесь будет рассматриваться ситуация в условиях неопределенности - когда лицо принимает решения, не зная некоторой информации об окружающем мире. В реальной жизни большинство решений принимается в подобной обстановке: в войне, экономике, науке, политике.\n",
    "\n",
    "&emsp;&emsp; Целью теории игр является нахождение оптимальных стратегий - таких стратегий, которые по определенным критериям предпочтительнее других. Таким образом, встает вопрос о том, какие критерии использовать. В итоге оказалось, что какого-то \"лучшего\" критерия не существует, и предпочитание одного критерия другому зависит лишь от лица, принимающего решения."
   ]
  },
  {
   "cell_type": "markdown",
   "metadata": {},
   "source": [
    "## Теоретическая часть\n",
    "&emsp;&emsp; Для моделирования ситуаций в условиях неопределенности часто используется модель \"Игра с природой\". Суть этой модели заключается в том, что есть единственный Игрок (лицо, сознательно принимающее решения), и ему противопоставляется природа (например, окружающая среда), которая не зависит от Игрока.\n",
    "Пусть $S^C$ = $\\{A_i, i = 1,2,...,m\\}, m \\geq 2,$ множество чистых (то есть выбранных не случайным, а определенным образом)  стратегий Игрока; $\\{\\Pi_j, j = 1,2,...,n\\}, n \\geq$ 2 - состояния природы; $\\{a_{ij}, i = 1,2,...,m; j = 1,2,...,n\\},$ - выигрыши Игрока в игровой ситуации $(A_i,\\Pi_j)$, когда Игрок выбирает стратегию $A_i$, а природа находится в состоянии $\\Pi_j$; по выигрышам составляется матрица выигрышей (или платежная матрица):\n",
    "\n",
    "| $A_i\\backslash \\Pi_j$ | $\\Pi_1$ | $\\Pi_2$ | ... | $\\Pi_n$ |\n",
    "| --- | --- | --- | --- | --- |\n",
    "| $A_1$ | $a_{11}$ | $a_{12}$ | ... | $a_{1n}$ |\n",
    "| $A_2$ | $a_{21}$ | $a_{22}$ | ... | $a_{2n}$ |\n",
    "| ... | ... | ... | ... | ... |\n",
    "| $A_m$ | $a_{m1}$ | $a_{m2}$ | ... | $a_{mn}$ |\n",
    "\n",
    "&emsp;&emsp; Чтобы определить оптимальность решений используют критерий Вальда, максимаксный критерий, критерий Гурвица относительно выигрышей.\n",
    "\n",
    "\n",
    "\n",
    "&emsp;&emsp; *Критерий Вальда* или *W - критерий*:  $W_i = min\\{a_{ij}: j = 1,2,...,n\\}, i = 1,2,...,m$ - показатель эффективности стратегии $A_i$ по W - критерию, или W - показатель эффективности стратегии $A_i; W_{S^C} = max\\{W_i: i = 1,2,...,m\\}$ - цена игры во множестве S^C чистых стратегий по критерию Вальда, или W - цена игры в чистых стратегиях; стратегия $A_k$ называется оптимальной по критерию Вальда, или W - оптимальной во множестве $S^C$ чистых стратегий, если $W_k = W_{S^C};$  - множество стратегий, оптимальных по критерию Вальда во множестве $S^C$ чистых стратегий.\n",
    "\n",
    "&emsp;&emsp; Критерий Вальда иногда называют критерием крайнего пессимизма, так как он фокусируется на минимальных выигрышах.\n",
    "\n",
    "&emsp;&emsp; $\\textit{Максимаксный критерий}$ или $\\textit{М - критерий}$: $M_i = max\\{a_{ij}: j = 1,2,...,n\\}, i = 1,2,...,m$ - показатель эффективности стратегии $A_i$ по максимаксному критерию, или М - показатель эффективности стратегии $A_i; \\ M_{S^C} = max\\{M_i: i = 1,2,...,m\\}$ - цена игры во множестве $S^C$ чистых стратегий по максимаксному критерию, или M - цена игры в чистых стратегиях; стратегия $A_k$ называется оптимальной по максимаксному критерию, или M - оптимальной во множестве $S^C$ чистых стратегий, если $M_k = M_{S^C}; \\ (S^C)^{O(M)}$ - множество стратегий, оптимальных по M - критерию во множестве $S^C$ чистых стратегий.\n",
    "\n",
    "&emsp;&emsp; Максимаксный критерий является критерием крайнего оптимизма, так как он определяет наибольший элемент в строках стратегий.\n",
    "\n",
    "&emsp;&emsp; $\\textit{Критерий Гурвица относительно выигрышей с показателем оптимизма $\\lambda \\in [0; 1]$}$ или $\\textit{$Hur^P(\\lambda)$ - критерий}$:\n",
    "$Hur_i^P(\\lambda) = (1 - \\lambda)W_i + \\lambda M_i = (M_i - W_i)\\lambda + W_i, i = 1,2,...,m$ - показатель эффективности стратегии $A_i$ по $Hur^P(\\lambda)$ - критерию, или $Hur^P(\\lambda)$ - показатель эффективности стратегии $A_i$. $Hur_{S^C}^P(\\lambda) = max\\{Hur_i^P(\\lambda): i = 1,2,...,m\\}$ - цена игры в чистых стратегиях по $Hur^P(\\lambda)$ - критерию, или $Hur^P(\\lambda)$ - цена игры в чистых стратегиях; стратегия $A_k$ называется оптимальной по $Hur^P(\\lambda)$ - критерию во множестве $S^C$ чистых стратегий, или $Hur^P(\\lambda)$ - оптимальной во множестве $S^C$, если $Hur_k^P(\\lambda) = Hur_{S^C}^P(\\lambda); \\ (S^C)^{O(Hur^P(\\lambda))}$ - множество стратегий, оптимальных во множестве $S^C$ по $Hur^P(\\lambda)$ - критерию.\n",
    "\n",
    "&emsp;&emsp; Значение показателя оптимизма $\\lambda \\in [0; 1]$ выбирается Игроком произвольно, исходя из его личных представлений об условиях, целях и сложностях решаемой задачи. Число $1 - \\lambda$ называют показателем пессимизма Игрока. Если $\\lambda = 0.5$, то Игрока называют нейтралом.\n",
    "Критерий Гурвица относительно выигрышей дает возможность сгладить крайний пессимизм критерия Вальда и крайний оптимизм максимаксного критерия с помощью весовых коэффициентов $1 - \\lambda \\ и \\ \\lambda$ (при $\\lambda = 0$ и $\\lambda = 1$ критерий Гурвица становится критерием критерием Вальда и максимаксным критерием соответственно).\n",
    "\n",
    "&emsp;&emsp; $\\textit{Свойство сглаживания:}$ будем говорить, что в данной игре с природой критерий Гурвица относительно выигрышей с показателем оптимизма $\\lambda$ обладает свойством сглаживания, если имеется стратегия, оптимальная во множестве чистых стратегий по этому критерию и не являющаяся оптимальной во множестве чистых стратегий ни по критерию Вальда, ни по максимаксному критерию.\n",
    "\n",
    "&emsp;&emsp; Показатель  эффективности  $Hur_i^P (\\lambda) \\ (i = 1, 2, ..., m),$  стратегии  $A_i$, следуя из определения, есть  линейная  функция  аргумента  $\\lambda \\in [0;  1]$   с неотрицательным  угловым  коэффициентом $M_i−W_i$.  Следовательно,  ее  график  на  промежутке  $0 \\leq \\lambda \\leq 1$ представляет  собой  прямолинейный  отрезок  неотрицательного  наклона  с началом в точке  $Hur_i^p(0) = W_i$ и концом в точке $Hur_i^p(1) = M_i$. Таким образом, каждая стратегия $A_i$  порождает отрезок  $W_iM_i$. Тогда цена игры $Hur_{S^C}^P(\\lambda)$ является  верхней  огибающей  отрезков  $Hur_i^P(\\lambda) \\ (i =1, 2, ..., m)$. Вообще говоря, верхняя  огибающая  $m$ прямолинейных  отрезков является  ломаной,  состоящей  из  не  более  $m$ звеньев.  \n",
    "\n",
    "\n",
    "#### Алгоритм:\n",
    "##### &emsp;&emsp; Определение того, есть ли в данной игре значения показателя оптимизма  $\\lambda \\in [0; 1]$ , при которых критерий Гурвица относительно  выигрышей обладает  свойством сглаживания\n",
    "&emsp;&emsp; 1. Вычисляем $W$ - показатели $W_1, W_2, ..., W_m$ и $M$ - показатели $M_1, M_2, ..., M_m$ эффективности стратегий.\n",
    "\n",
    "&emsp;&emsp; 2. В множестве пар $\\{(W_i,M_i): i = 1, 2, ..., m\\}$ отбираем подмножество пар с наибольшим $W$ - показателем эффективности стратегий. Этот наибольший $W$ - показатель эффективности стратегии равен цене игры $W_{S^C}$. В этом подмножестве только $M$ - показатели могут быть не равны между собой.\n",
    "\n",
    "&emsp;&emsp; 3. В полученном подмножестве отбираем пары с наибольшим $M$ - показателем. Этот показатель равен цене игры во множестве $(S^C)^{O(W)}$ по максимаксному критерию $M_{(S^C)^{O(W)}}$. Все пары в этом множестве равны между собой:\n",
    "$W_i = W_{S^C}, M_i = M_{(S^C)^{O(W)}},$ где $(W_i,M_i)$ - элемент полученного множества.\n",
    "\n",
    "&emsp;&emsp; 4. Если $M_i = M_{S^C}$, то в данной игре ни при каком значении показателя оптимизма $\\lambda \\in [0; 1]$ критерий Гурвица относительно выигрышей не обладает свойством сглаживания. Если же $M_i < M_{S^C}$, переходим к следующему пункту.\n",
    "\n",
    "&emsp;&emsp; 5. В множестве пар $\\{(W_i,M_i): i = 1, 2, ..., m\\}$ отбираем подмножество пар с наибольшим $M$ - показателем эффективности стратегий. Этот наибольший $M$ - показатель эффективности стратегии равно цене игры $M_{S^C}$. В этом подмножестве только $W$ - показатели могут быть не равны между собой.\n",
    "\n",
    "&emsp;&emsp; 6. В полученном подмножестве отбираем пары с наибольшим $W$ - показателем. Этот показатель равен цене игры во множестве $(S^C)^{O(M)}$ по критерию Вальда $W_{(S^C)^{O(M)}}$. Все пары в этом множестве равны между собой:\n",
    "$W_i = W_{(S^C)^{O(M)}}, M_i = M_{S^C},$ где $(W_i,M_i)$ - элемент полученного множества.\n",
    "\n",
    "&emsp;&emsp; 7. Если все пары $(W_i, M_i)$, которые не равны парам $(W_{S^C}, M_{(S^C)^{O(W)}})$ и $(W_{(S^C)^{O(M)}}, M_{S^C})$, удовлетворяют неравенству:\n",
    "\\begin{equation}\\frac{W_{S^C} - W_i}{W_{S^C} - W_{(S^C)^{O(M)}}} > \\dfrac{M_i - M_{(S^C)^{O(W)}}}{M_{S^C} - M_{(S^C)^{O(W)}}},\\end{equation}\n",
    "&emsp;&emsp; то в данной игре ни при каком значении показателя оптимизма $\\lambda \\in [0; 1]$ критерий Гурвица относительно выигрышей не обладает свойством сглаживания. Иначе, переходим к пункту 8.\n",
    "\n",
    "&emsp;&emsp; 8. Если существует пара $(W_i, M_i)$, удовлетворяющая неравенству:\n",
    "\\begin{equation}\\frac{W_{S^C} - W_i}{W_{S^C} - W_{(S^C)^{O(M)}}} < \\dfrac{M_i - M_{(S^C)^{O(W)}}}{M_{S^C} - M_{(S^C)^{O(W)}}},\\end{equation}\n",
    "&emsp;&emsp; то в данной игре найдутся значения показателя оптимизма $\\lambda \\in [0; 1]$, при которых критерий Гурвица относительно выигрышей будет обладать свойством сглаживания. Стратегия $A_i$, которая удовлетоворяет (2), будет $Hur^P(\\lambda) -$ оптимальна при $\\lambda \\in (\\lambda_1, \\lambda_2)$:\n",
    "\\begin{equation}\n",
    "  \\lambda_1 = \\frac{W_i - W_{S^C}}{M_{(S^C)^{O(W)}} + W_i - W_{S^C} - M_i}\n",
    "\\end{equation}\n",
    "\n",
    "\\begin{equation}\n",
    "  \\lambda_2 = \\frac{W_i - W_{(S^C)^{O(M)}}}{M_{S^C} + W_i - W_{(S^C)^{O(M)}} - M_i}.\n",
    "\\end{equation}\n",
    "\n",
    "&emsp;&emsp; В противном случае, то есть когда любая пара удовлетворяет неравенству \n",
    "\\begin{equation}\\frac{W_{S^C} - W_i}{W_{S^C} - W_{(S^C)^{O(M)}}} \\geq \\dfrac{M_i - M_{(S^C)^{O(W)}}}{M_{S^C} - M_{(S^C)^{O(W)}}},\\end{equation}\n",
    "перейдем к пункту 9.\n",
    "\n",
    "&emsp;&emsp; 9. Если из имеющихся пар найдется пара $(W_i, M_i),$ отличная от пар $(W_{S^C}, M_{(S^C)^{O(W)}}), (W_{(S^C)^{O(M)}}, M_{S^C})$ и удовлетворяющая равенству:\n",
    "\\begin{equation}\\frac{W_{S^C} - W_i}{W_{S^C} - W_{(S^C)^{O(M)}}} = \\dfrac{M_i - M_{(S^C)^{O(W)}}}{M_{S^C} - M_{(S^C)^{O(W)}}},\\end{equation}\n",
    "&emsp;&emsp; то при $\\lambda = \\lambda_{Hur^P}$ критерий Гурвица относительно выигрышей будет обладать свойством сглаживания; $A_i$ будет $Hur^P(\\lambda_{Hur^P})$ - оптимальной и не будет ни  $W$ -, ни $M$ - оптимальной.\n",
    "\n",
    "&emsp;&emsp; $\\lambda_{Hur^P}$ определяется по формуле:\n",
    "\n",
    "\\begin{equation}\\frac{W_{S^C} - W_{(S^C)^{O(M)}}}{(W_{S^C} - W_{(S^C)^{O(M)}}) + (M_{S^C} - M_{(S^C)^{O(W)}})}\\end{equation}"
   ]
  },
  {
   "cell_type": "markdown",
   "metadata": {},
   "source": [
    "### Реализация алгоритма в Python"
   ]
  },
  {
   "cell_type": "code",
   "execution_count": 110,
   "metadata": {
    "ExecuteTime": {
     "end_time": "2019-04-17T18:41:21.108388Z",
     "start_time": "2019-04-17T18:41:21.085405Z"
    }
   },
   "outputs": [
    {
     "data": {
      "text/html": [
       "<style>.rendered_html { line-height: 40px; }</style>"
      ],
      "text/plain": [
       "<IPython.core.display.HTML object>"
      ]
     },
     "metadata": {},
     "output_type": "display_data"
    },
    {
     "data": {
      "text/html": [
       "<style>.rendered_html { font-size: 20px; }</style>"
      ],
      "text/plain": [
       "<IPython.core.display.HTML object>"
      ]
     },
     "metadata": {},
     "output_type": "display_data"
    },
    {
     "data": {
      "text/html": [
       "<style>.rendered_html { font-family: Times New Roman; }</style>"
      ],
      "text/plain": [
       "<IPython.core.display.HTML object>"
      ]
     },
     "metadata": {},
     "output_type": "display_data"
    }
   ],
   "source": [
    "# Импорт нужных библиотек, настройка вида\n",
    "import numpy as np\n",
    "import pandas as pd\n",
    "from IPython.display import display, Markdown\n",
    "from IPython.core.interactiveshell import InteractiveShell\n",
    "InteractiveShell.ast_node_interactivity = 'all'\n",
    "from IPython.core.display import display, HTML\n",
    "display(HTML('<style>.rendered_html { line-height: 40px; }</style>'))\n",
    "display(HTML('<style>.rendered_html { font-size: 20px; }</style>'))\n",
    "display(HTML('<style>.rendered_html { font-family: Times New Roman; }</style>'))"
   ]
  },
  {
   "cell_type": "code",
   "execution_count": 111,
   "metadata": {
    "ExecuteTime": {
     "end_time": "2019-04-17T18:41:43.157228Z",
     "start_time": "2019-04-17T18:41:43.136244Z"
    }
   },
   "outputs": [
    {
     "data": {
      "text/html": [
       "<style>\n",
       "td {\n",
       "    font-size:18pt;\n",
       "}\n",
       "</style>\n"
      ],
      "text/plain": [
       "<IPython.core.display.HTML object>"
      ]
     },
     "metadata": {},
     "output_type": "display_data"
    }
   ],
   "source": [
    "%%html\n",
    "<style>\n",
    "td {\n",
    "    font-size:18pt;\n",
    "}\n",
    "</style>"
   ]
  },
  {
   "cell_type": "code",
   "execution_count": 112,
   "metadata": {
    "ExecuteTime": {
     "end_time": "2019-04-17T18:41:47.576987Z",
     "start_time": "2019-04-17T18:41:47.494012Z"
    }
   },
   "outputs": [],
   "source": [
    "# функция, принимающая платежную матрицу, и применяющая алгоритм, описанный выше\n",
    "# acc - точность вывода лямбд\n",
    "def smooth_hurwitz(A, acc = 3):\n",
    "    A.reset_index(inplace = True, drop = True)\n",
    "    l = len(A)                                # кол-во стратегий\n",
    "    W = np.arange(l)       # W-показатели эффективности стратегий\n",
    "    M = np.arange(l)       # M-показатели эффективности стратегий\n",
    "    \n",
    "    #### Пункт 1\n",
    "    \n",
    "    for i in range(l):  # Заполнение W и M значениями\n",
    "        \n",
    "        W[i] = A.min(axis=1)[i]  # минимальный элемент из i-ой строки\n",
    "        M[i] = A.max(axis=1)[i]\n",
    "    \n",
    "    #### Пункт 2\n",
    "    \n",
    "    WmaxM = []        # подмножество пар W- и M-показателей с наибольшим W-показателем\n",
    "    \n",
    "    for i in range(l):  # Заполнение WmaxM значениями\n",
    "        if W[i] == W.max():\n",
    "            \n",
    "            WmaxM.append([W[i], M[i]])\n",
    "    \n",
    "    #### Пункт 3\n",
    "    \n",
    "    WmaxMmax1 = []    # подмножество WmaxM с наибольшим M-показателем\n",
    "    WmaxM = pd.DataFrame(WmaxM)    #преобразование списка в матрицу DataFrame\n",
    "    \n",
    "    for i in range(len(WmaxM[0])):\n",
    "        \n",
    "        if WmaxM.loc[i][1] == WmaxM.loc[:][1].max():  #если M_i является наибольшим \n",
    "            \n",
    "            WmaxMmax1.append(list(WmaxM.loc[i]))\n",
    "    \n",
    "    #### Пункт 4\n",
    "    \n",
    "    if WmaxMmax1[0][1] == M.max():\n",
    "        \n",
    "        display(Markdown(r'В данной игре ни при каком значении показателя оптимизма $\\lambda \\in [0, 1]$ критерий Гурвица относительно выигрышей не обладает свойством сглаживания'))\n",
    "        \n",
    "    #### Пункт 5\n",
    "    \n",
    "    else:\n",
    "        \n",
    "        WMmax = []        # подмножество пар W- и M-показателей с наибольшим M-показателем\n",
    "    \n",
    "        for i in range(l):  # Заполнение WMmax значениями\n",
    "            if M[i] == M.max():\n",
    "                \n",
    "                WMmax.append([W[i], M[i]])\n",
    "    \n",
    "    #### Пункт 6            \n",
    "                \n",
    "        WmaxMmax2 = []    # подмножество WMmax с наибольшим W-показателем\n",
    "        WMmax = pd.DataFrame(WMmax)\n",
    "        \n",
    "        for i in range(len(WMmax[0])):\n",
    "            \n",
    "            if WMmax.loc[i][0] == WMmax.loc[:][0].max():  #если W_i является наибольшим\n",
    "                WmaxMmax2.append(list(WMmax.loc[i]))\n",
    "        \n",
    "        Wsc = W.max()  #цена игры по критерию Вальда\n",
    "        Msc = M.max()  #цена игры по максимаксному критерию\n",
    "        Wom = WmaxMmax2[0][0]  #W_(S^C)^O(M)\n",
    "        Mow = WmaxMmax1[0][1]  #M_(S^C)^O(W)\n",
    "        \n",
    "    #### Пункт 7\n",
    "    \n",
    "        t = True\n",
    "        \n",
    "        for i in range(l):\n",
    "            if [W[i], M[i]] != WmaxMmax1[0] and \\\n",
    "            [W[i], M[i]] != WmaxMmax2[0]:\n",
    "                \n",
    "                if (Wsc - W[i]) / (Wsc - Wom) <= (M[i] - Mow) / (Msc - Mow):\n",
    "                    \n",
    "                    t = False\n",
    "                    \n",
    "        if t:\n",
    "            \n",
    "            display(Markdown(r'В данной игре ни при каком значении показателя оптимизма $\\lambda \\in [0, 1]$ критерий Гурвица относительно выигрышей не обладает свойством сглаживания'))\n",
    "            \n",
    "    #### Пункт 8\n",
    "            \n",
    "        else:  \n",
    "    \n",
    "            t = False\n",
    "            opt = []  #оптимальные стратегии и лямбды, при которых они оптимальны\n",
    "            lam1 = []\n",
    "            lam2 = []\n",
    "            \n",
    "            for i in range(l):\n",
    "                \n",
    "                if (Wsc-W[i])/(Wsc-Wom) < (M[i]-Mow)/(Msc-Mow):\n",
    "                    \n",
    "                    t = True\n",
    "                    opt.append(str(i + 1))  \n",
    "                    lam1.append(round((W[i] - Wsc)/(Mow + W[i] - Wsc - M[i]), acc))\n",
    "                    lam2.append(round((W[i] - Wom)/(Msc + W[i] - Wom - M[i]), acc))\n",
    "                    \n",
    "            if t:\n",
    "                \n",
    "                \n",
    "                k1 = '$A_{' + '}, A_{'.join(opt) + '}'\n",
    "                k2 = ''\n",
    "                for i in range(len(opt)):\n",
    "                    \n",
    "                    k2 += 'для $A_{'+str(opt[i])+'}: \\lambda \\in ('+str(lam1[i])+'; '+str(lam2[i])+')$'\n",
    "                    if len(opt) > 1 and i != len(opt)-1:\n",
    "                        k2 += '; '\n",
    "                        \n",
    "                display(Markdown(r'В данной игре найдутся значения показателя оптимизма $\\lambda \\in [0, 1]$, при которых критерий Гурвица относительно выигрышей будет обладать свойством сглаживания. Стратегия(и) '+k1+' \\ Hur^P(\\lambda)$-оптимальна(ы) ('+k2+'), но не оптимальна(ы) ни по критерию Вальда, ни по максимаксному критерию'))\n",
    "                \n",
    "    #### Пункт 9\n",
    "                \n",
    "            else: \n",
    "    \n",
    "                t = False\n",
    "                opt = [] #оптимальные стратегии игрока A по критерию Гурвица\n",
    "                for i in range(l):\n",
    "                    if [W[i], M[i]] != WmaxMmax1[0] and \\\n",
    "                    [W[i], M[i]] != WmaxMmax2[0]:\n",
    "                        \n",
    "                        if (Wsc-W[i])/(Wsc-Wom) == (M[i]-Mow)/(Msc-Mow):\n",
    "                            \n",
    "                            t = True\n",
    "                            opt.append(str(i + 1))   \n",
    "                if t:   \n",
    "                    #найдем lambda_Hur^P\n",
    "                    lam = round((Wsc - Wom) / ((Wsc - Wom) + (Msc - Mow)), acc)\n",
    "                    k = '$A_{' + '}, A_{'.join(opt) + '}'\n",
    "                    \n",
    "                    display(Markdown(r'При $\\lambda = \\lambda_{Hur^P} = '+str(lam)+'$ критерий Гурвица относительно выигрышей будет обладать свойством сглаживания. Стратегия(и) '+k+' \\ Hur^P(\\lambda_{Hur^P})$-оптимальна(ы), но не оптимальна(ы) ни по критерию Вальда, ни по максимаксному критерию'))\n",
    "                    \n",
    "                else:\n",
    "                    \n",
    "                    display(Markdown(r'В данной игре ни при каком значении показателя оптимизма $\\lambda \\in [0, 1]$ критерий Гурвица относительно выигрышей не обладает свойством сглаживания'))"
   ]
  },
  {
   "cell_type": "markdown",
   "metadata": {},
   "source": [
    "####  Примеры работы алгоритма"
   ]
  },
  {
   "cell_type": "code",
   "execution_count": 113,
   "metadata": {
    "ExecuteTime": {
     "end_time": "2019-04-17T18:41:50.142135Z",
     "start_time": "2019-04-17T18:41:50.115150Z"
    }
   },
   "outputs": [
    {
     "data": {
      "text/markdown": [
       "В данной игре ни при каком значении показателя оптимизма $\\lambda \\in [0, 1]$ критерий Гурвица относительно выигрышей не обладает свойством сглаживания"
      ],
      "text/plain": [
       "<IPython.core.display.Markdown object>"
      ]
     },
     "metadata": {},
     "output_type": "display_data"
    }
   ],
   "source": [
    "A1 = pd.DataFrame([[-1, 1,-1, 1], \n",
    "                   [ 7,-1,-1, 7], \n",
    "                   [ 4, 0, 0, 4],\n",
    "                   [ 3, 2, 2, 3]])\n",
    "smooth_hurwitz(A1)"
   ]
  },
  {
   "cell_type": "code",
   "execution_count": 114,
   "metadata": {
    "ExecuteTime": {
     "end_time": "2019-04-17T18:41:51.379784Z",
     "start_time": "2019-04-17T18:41:51.347823Z"
    }
   },
   "outputs": [
    {
     "data": {
      "text/markdown": [
       "В данной игре найдутся значения показателя оптимизма $\\lambda \\in [0, 1]$, при которых критерий Гурвица относительно выигрышей будет обладать свойством сглаживания. Стратегия(и) $A_{3} \\ Hur^P(\\lambda)$-оптимальна(ы) (для $A_{3}: \\lambda \\in (0.25; 0.75)$), но не оптимальна(ы) ни по критерию Вальда, ни по максимаксному критерию"
      ],
      "text/plain": [
       "<IPython.core.display.Markdown object>"
      ]
     },
     "metadata": {},
     "output_type": "display_data"
    }
   ],
   "source": [
    "A2 = pd.DataFrame([[0, 2.5, 0, 2.5], \n",
    "                   [3, 2, 2, 3], \n",
    "                   [6, 1, 1, 6],\n",
    "                   [-2, 7, -2, 7]])\n",
    "smooth_hurwitz(A2)"
   ]
  },
  {
   "cell_type": "code",
   "execution_count": 115,
   "metadata": {
    "ExecuteTime": {
     "end_time": "2019-04-17T18:41:53.852357Z",
     "start_time": "2019-04-17T18:41:53.828372Z"
    },
    "scrolled": true
   },
   "outputs": [
    {
     "data": {
      "text/markdown": [
       "При $\\lambda = \\lambda_{Hur^P} = 0.5$ критерий Гурвица относительно выигрышей будет обладать свойством сглаживания. Стратегия(и) $A_{3} \\ Hur^P(\\lambda_{Hur^P})$-оптимальна(ы), но не оптимальна(ы) ни по критерию Вальда, ни по максимаксному критерию"
      ],
      "text/plain": [
       "<IPython.core.display.Markdown object>"
      ]
     },
     "metadata": {},
     "output_type": "display_data"
    }
   ],
   "source": [
    "A3 = pd.DataFrame([[-1, 5,-1, 5], \n",
    "                   [-3, 8,-3, 8], \n",
    "                   [ 1, 4, 1, 4],\n",
    "                   [ 2, 3, 2, 3]])\n",
    "smooth_hurwitz(A3)"
   ]
  },
  {
   "cell_type": "markdown",
   "metadata": {},
   "source": [
    "## Практическая часть"
   ]
  },
  {
   "cell_type": "markdown",
   "metadata": {},
   "source": [
    "#### Формулировка\n",
    "&emsp;&emsp; Имеется магазин, продающий определенный продукт. Нужно решить, сколько единиц продукта надо заказать для поставки. Если спрос в этом квартале будет меньше заказанного количества, остатки придется выбросить. Спрос будет больше - придется заказать еще, но по повышенной цене. Заказ одной штуки товара заранее стоит 1 у.е., по повышенной цене - 1.5 у.е. Товар продается за 2 у.е. Спрос принимает значения от 1 до 10\n",
    "#### Формализация\n",
    "&emsp;&emsp; Имеется Игрок $А$ - магазин, природа $\\Pi$ - спрос на товар. Стратегии Игрока А $S^P_A = \\{A_i\\}, \\ i = \\overline{1,10}$ - заказать $i$ единиц товара. Состояния природы $\\{\\Pi_j\\}, \\ j = \\overline{1,10}$ - спрос равен $j$. Выигрыш $a_{ij}$ - прибыль от товара за квартал.\n",
    "$$a_{ij} = \\begin{cases}i, \\ i = j \\\\ 2j - (i - j) = 3j - i, \\ i > j \\\\ 2i + 2(j - i) - 1.5(j - i) = 1.5i + 0.5j, \\ i < j\\end{cases}$$\n"
   ]
  },
  {
   "cell_type": "markdown",
   "metadata": {},
   "source": [
    "#### Решение в Python"
   ]
  },
  {
   "cell_type": "code",
   "execution_count": 116,
   "metadata": {
    "ExecuteTime": {
     "end_time": "2019-04-17T18:42:00.804386Z",
     "start_time": "2019-04-17T18:42:00.721430Z"
    }
   },
   "outputs": [
    {
     "data": {
      "text/html": [
       "<div>\n",
       "<style scoped>\n",
       "    .dataframe tbody tr th:only-of-type {\n",
       "        vertical-align: middle;\n",
       "    }\n",
       "\n",
       "    .dataframe tbody tr th {\n",
       "        vertical-align: top;\n",
       "    }\n",
       "\n",
       "    .dataframe thead th {\n",
       "        text-align: right;\n",
       "    }\n",
       "</style>\n",
       "<table border=\"1\" class=\"dataframe\">\n",
       "  <thead>\n",
       "    <tr style=\"text-align: right;\">\n",
       "      <th></th>\n",
       "      <th>1</th>\n",
       "      <th>2</th>\n",
       "      <th>3</th>\n",
       "      <th>4</th>\n",
       "      <th>5</th>\n",
       "      <th>6</th>\n",
       "      <th>7</th>\n",
       "      <th>8</th>\n",
       "      <th>9</th>\n",
       "      <th>10</th>\n",
       "    </tr>\n",
       "  </thead>\n",
       "  <tbody>\n",
       "    <tr>\n",
       "      <th>1</th>\n",
       "      <td>1.0</td>\n",
       "      <td>2.5</td>\n",
       "      <td>3.0</td>\n",
       "      <td>3.5</td>\n",
       "      <td>4.0</td>\n",
       "      <td>4.5</td>\n",
       "      <td>5.0</td>\n",
       "      <td>5.5</td>\n",
       "      <td>6.0</td>\n",
       "      <td>6.5</td>\n",
       "    </tr>\n",
       "    <tr>\n",
       "      <th>2</th>\n",
       "      <td>1.0</td>\n",
       "      <td>2.0</td>\n",
       "      <td>4.5</td>\n",
       "      <td>5.0</td>\n",
       "      <td>5.5</td>\n",
       "      <td>6.0</td>\n",
       "      <td>6.5</td>\n",
       "      <td>7.0</td>\n",
       "      <td>7.5</td>\n",
       "      <td>8.0</td>\n",
       "    </tr>\n",
       "    <tr>\n",
       "      <th>3</th>\n",
       "      <td>0.0</td>\n",
       "      <td>3.0</td>\n",
       "      <td>3.0</td>\n",
       "      <td>6.5</td>\n",
       "      <td>7.0</td>\n",
       "      <td>7.5</td>\n",
       "      <td>8.0</td>\n",
       "      <td>8.5</td>\n",
       "      <td>9.0</td>\n",
       "      <td>9.5</td>\n",
       "    </tr>\n",
       "    <tr>\n",
       "      <th>4</th>\n",
       "      <td>-1.0</td>\n",
       "      <td>2.0</td>\n",
       "      <td>5.0</td>\n",
       "      <td>4.0</td>\n",
       "      <td>8.5</td>\n",
       "      <td>9.0</td>\n",
       "      <td>9.5</td>\n",
       "      <td>10.0</td>\n",
       "      <td>10.5</td>\n",
       "      <td>11.0</td>\n",
       "    </tr>\n",
       "    <tr>\n",
       "      <th>5</th>\n",
       "      <td>-2.0</td>\n",
       "      <td>1.0</td>\n",
       "      <td>4.0</td>\n",
       "      <td>7.0</td>\n",
       "      <td>5.0</td>\n",
       "      <td>10.5</td>\n",
       "      <td>11.0</td>\n",
       "      <td>11.5</td>\n",
       "      <td>12.0</td>\n",
       "      <td>12.5</td>\n",
       "    </tr>\n",
       "    <tr>\n",
       "      <th>6</th>\n",
       "      <td>-3.0</td>\n",
       "      <td>0.0</td>\n",
       "      <td>3.0</td>\n",
       "      <td>6.0</td>\n",
       "      <td>9.0</td>\n",
       "      <td>6.0</td>\n",
       "      <td>12.5</td>\n",
       "      <td>13.0</td>\n",
       "      <td>13.5</td>\n",
       "      <td>14.0</td>\n",
       "    </tr>\n",
       "    <tr>\n",
       "      <th>7</th>\n",
       "      <td>-4.0</td>\n",
       "      <td>-1.0</td>\n",
       "      <td>2.0</td>\n",
       "      <td>5.0</td>\n",
       "      <td>8.0</td>\n",
       "      <td>11.0</td>\n",
       "      <td>7.0</td>\n",
       "      <td>14.5</td>\n",
       "      <td>15.0</td>\n",
       "      <td>15.5</td>\n",
       "    </tr>\n",
       "    <tr>\n",
       "      <th>8</th>\n",
       "      <td>-5.0</td>\n",
       "      <td>-2.0</td>\n",
       "      <td>1.0</td>\n",
       "      <td>4.0</td>\n",
       "      <td>7.0</td>\n",
       "      <td>10.0</td>\n",
       "      <td>13.0</td>\n",
       "      <td>8.0</td>\n",
       "      <td>16.5</td>\n",
       "      <td>17.0</td>\n",
       "    </tr>\n",
       "    <tr>\n",
       "      <th>9</th>\n",
       "      <td>-6.0</td>\n",
       "      <td>-3.0</td>\n",
       "      <td>0.0</td>\n",
       "      <td>3.0</td>\n",
       "      <td>6.0</td>\n",
       "      <td>9.0</td>\n",
       "      <td>12.0</td>\n",
       "      <td>15.0</td>\n",
       "      <td>9.0</td>\n",
       "      <td>18.5</td>\n",
       "    </tr>\n",
       "    <tr>\n",
       "      <th>10</th>\n",
       "      <td>-7.0</td>\n",
       "      <td>-4.0</td>\n",
       "      <td>-1.0</td>\n",
       "      <td>2.0</td>\n",
       "      <td>5.0</td>\n",
       "      <td>8.0</td>\n",
       "      <td>11.0</td>\n",
       "      <td>14.0</td>\n",
       "      <td>17.0</td>\n",
       "      <td>10.0</td>\n",
       "    </tr>\n",
       "  </tbody>\n",
       "</table>\n",
       "</div>"
      ],
      "text/plain": [
       "     1    2    3    4    5     6     7     8     9     10\n",
       "1   1.0  2.5  3.0  3.5  4.0   4.5   5.0   5.5   6.0   6.5\n",
       "2   1.0  2.0  4.5  5.0  5.5   6.0   6.5   7.0   7.5   8.0\n",
       "3   0.0  3.0  3.0  6.5  7.0   7.5   8.0   8.5   9.0   9.5\n",
       "4  -1.0  2.0  5.0  4.0  8.5   9.0   9.5  10.0  10.5  11.0\n",
       "5  -2.0  1.0  4.0  7.0  5.0  10.5  11.0  11.5  12.0  12.5\n",
       "6  -3.0  0.0  3.0  6.0  9.0   6.0  12.5  13.0  13.5  14.0\n",
       "7  -4.0 -1.0  2.0  5.0  8.0  11.0   7.0  14.5  15.0  15.5\n",
       "8  -5.0 -2.0  1.0  4.0  7.0  10.0  13.0   8.0  16.5  17.0\n",
       "9  -6.0 -3.0  0.0  3.0  6.0   9.0  12.0  15.0   9.0  18.5\n",
       "10 -7.0 -4.0 -1.0  2.0  5.0   8.0  11.0  14.0  17.0  10.0"
      ]
     },
     "execution_count": 116,
     "metadata": {},
     "output_type": "execute_result"
    }
   ],
   "source": [
    "m,n = 10,10\n",
    "A = np.zeros((m,n))\n",
    "\n",
    "for i in range(A.shape[0]):\n",
    "    for j in range(A.shape[1]):\n",
    "        if i > j:\n",
    "            A[i][j] = 3*(j+1) - (i + 1)\n",
    "        elif i < j:\n",
    "            A[i][j] = 1.5*(i + 1) + 0.5*(j + 1)\n",
    "        else:\n",
    "            A[i][j] = i + 1\n",
    "A = pd.DataFrame(A, index = np.arange(1, m+1), columns = np.arange(1, n+1))\n",
    "A"
   ]
  },
  {
   "cell_type": "code",
   "execution_count": 77,
   "metadata": {
    "ExecuteTime": {
     "end_time": "2019-04-17T17:17:52.927268Z",
     "start_time": "2019-04-17T17:17:52.893292Z"
    },
    "scrolled": true
   },
   "outputs": [
    {
     "data": {
      "text/markdown": [
       "В данной игре найдутся значения показателя оптимизма $\\lambda \\in [0, 1]$, при которых критерий Гурвица относительно выигрышей будет обладать свойством сглаживания. Стратегия(и) $A_{4}, A_{6}, A_{8} \\ Hur^P(\\lambda)$-оптимальна(ы) (для $A_{4}: \\lambda \\in (0.4; 0.417)$; для $A_{6}: \\lambda \\in (0.4; 0.429)$; для $A_{8}: \\lambda \\in (0.4; 0.5)$), но не оптимальна(ы) ни по критерию Вальда, ни по максимаксному критерию"
      ],
      "text/plain": [
       "<IPython.core.display.Markdown object>"
      ]
     },
     "metadata": {},
     "output_type": "display_data"
    }
   ],
   "source": [
    "smooth_hurwitz(A)"
   ]
  },
  {
   "cell_type": "markdown",
   "metadata": {},
   "source": [
    "## Выводы\n",
    "&emsp;&emsp; Мы смогли найти стратегии, оптимальные по критерию Гурвица, которые обладают свойством сглаживания. Так как получившиеся интервалы лежат около 0.5, то мы можем быть нейтралом - то есть не слишком бояться проиграть, но и не быть азартным. Если это соответствует взглядам владельца магазина, то мы выполнили задачу. "
   ]
  },
  {
   "cell_type": "markdown",
   "metadata": {},
   "source": [
    "## Список литературы\n",
    "1. Лабскер Л. Г. // КРИТЕРИЙ ГУРВИЦА: СВОЙСТВО СГЛАЖИВАНИЯ,  АЛГОРИТМЫ, ЭКОНОМИЧЕСКОЕ ПРИЛОЖЕНИЕ\n",
    "2. Лабскер Л. Г., Ященко // Теория игр в экономике. Практикум с решением задач.Учебное пособие."
   ]
  }
 ],
 "metadata": {
  "kernelspec": {
   "display_name": "Python 3",
   "language": "python",
   "name": "python3"
  },
  "language_info": {
   "codemirror_mode": {
    "name": "ipython",
    "version": 3
   },
   "file_extension": ".py",
   "mimetype": "text/x-python",
   "name": "python",
   "nbconvert_exporter": "python",
   "pygments_lexer": "ipython3",
   "version": "3.7.1"
  },
  "latex_envs": {
   "LaTeX_envs_menu_present": true,
   "autoclose": true,
   "autocomplete": true,
   "bibliofile": "biblio.bib",
   "cite_by": "apalike",
   "current_citInitial": 1,
   "eqLabelWithNumbers": true,
   "eqNumInitial": 1,
   "hotkeys": {
    "equation": "ctrl-a,ctrl-d,ctrl-s,ctrl-d,ctrl-b,ctrl-s,ctrl-h,ctrl-d,ctrl-a,ctrl-s,enter,enter"
   },
   "labels_anchors": false,
   "latex_user_defs": false,
   "report_style_numbering": false,
   "user_envs_cfg": false
  },
  "toc": {
   "base_numbering": 1,
   "nav_menu": {},
   "number_sections": true,
   "sideBar": false,
   "skip_h1_title": false,
   "title_cell": "Table of Contents",
   "title_sidebar": "Contents",
   "toc_cell": true,
   "toc_position": {},
   "toc_section_display": true,
   "toc_window_display": false
  }
 },
 "nbformat": 4,
 "nbformat_minor": 2
}
