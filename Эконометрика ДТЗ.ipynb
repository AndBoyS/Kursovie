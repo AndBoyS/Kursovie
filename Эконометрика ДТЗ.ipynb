{
 "cells": [
  {
   "cell_type": "markdown",
   "metadata": {},
   "source": [
    "# Импорты нужных библиотек"
   ]
  },
  {
   "cell_type": "code",
   "execution_count": 1,
   "metadata": {
    "ExecuteTime": {
     "end_time": "2019-12-15T16:16:22.411274Z",
     "start_time": "2019-12-15T16:15:20.330026Z"
    }
   },
   "outputs": [],
   "source": [
    "import numpy as np\n",
    "import scipy.stats as st\n",
    "import pandas as pd\n",
    "import statsmodels.api as sm\n",
    "from IPython.display import display, Math, Markdown\n",
    "from IPython.core.interactiveshell import InteractiveShell\n",
    "InteractiveShell.ast_node_interactivity = 'all'\n",
    "ip = get_ipython() \n",
    "ibe = ip.configurables[-1] \n",
    "ibe.figure_formats = { 'pdf', 'png'}"
   ]
  },
  {
   "cell_type": "markdown",
   "metadata": {},
   "source": [
    "# Подготовка данных "
   ]
  },
  {
   "cell_type": "code",
   "execution_count": 42,
   "metadata": {
    "ExecuteTime": {
     "end_time": "2019-12-15T16:16:25.690012Z",
     "start_time": "2019-12-15T16:16:22.419254Z"
    }
   },
   "outputs": [],
   "source": [
    "# загружаем файлы xlsx как таблицы pd.Dataframe\n",
    "rev_2017m = pd.read_excel('2017.xlsx')\n",
    "rev_2018m = pd.read_excel('2018.xlsx')\n",
    "gdp = pd.read_excel('gdp.xls')\n",
    "\n",
    "# убираем пробелы в конце строк в названиях стран\n",
    "rev_2017m['COUNTRY'] = rev_2017m['COUNTRY'].apply(lambda x: x.rstrip())\n",
    "rev_2018m['COUNTRY'] = rev_2018m['COUNTRY'].apply(lambda x: x.rstrip())\n",
    "\n",
    "# меняем название столбца\n",
    "rev_2017m.rename(columns={'TOTAL REVENUES ($M)':'TOTAL REVENUES'},inplace=True)\n",
    "\n",
    "# добавляем столбец \"год\"\n",
    "rev_2017m['YEAR'] = [2017]*(rev_2017m.shape[0])\n",
    "rev_2018m['YEAR'] = [2018]*(rev_2018m.shape[0])\n",
    "\n",
    "# делаем значения объема продаж числами \n",
    "# (например,строка \"$2,303M\" для таблицы rev_2018m становится числом 2303)\n",
    "rev_2017m['TOTAL REVENUES'] = rev_2017m['TOTAL REVENUES'].apply(lambda x: int(x.replace(',','_')[1:]))\n",
    "rev_2018m['TOTAL REVENUES'] = rev_2018m['TOTAL REVENUES'].apply(lambda x: int(x.replace(',','_')[1:-1]))\n",
    "\n",
    "# создаем таблицы с уровнем ВВП для 2017 и 2018 года, переводим доллары в миллионы долларов,\n",
    "# переводим буквы в названиях стран в верхний регистр (\"Russian Federation\" => \"RUSSIAN FEDERATION\")\n",
    "gdp_2017m = gdp.loc[:][['COUNTRY',2017]]\n",
    "gdp_2017m.loc[:][2017] /= 10**6\n",
    "gdp_2017m.loc[:]['COUNTRY'] = gdp_2017m.loc[:]['COUNTRY'].apply(lambda x: x.upper()) \n",
    "\n",
    "gdp_2018m = gdp.loc[:][['COUNTRY',2018]]\n",
    "gdp_2018m.loc[:][2018] /= 10**6\n",
    "gdp_2018m.loc[:]['COUNTRY'] = gdp_2018m.loc[:]['COUNTRY'].apply(lambda x: x.upper())\n",
    "\n",
    "# меняем названия столбцов\n",
    "gdp_2017m.rename(columns={2017:'GDP'},inplace=True)\n",
    "gdp_2018m.rename(columns={2018:'GDP'},inplace=True)\n",
    "\n",
    "# соединяем таблицы продаж с таблицами ввп соответсвенно (аналогично функции join в SQL)\n",
    "data1 = rev_2017m.merge(gdp_2017m,on='COUNTRY')\n",
    "data2 = rev_2018m.merge(gdp_2018m,on='COUNTRY')\n",
    "\n",
    "# соединяем получившиеся таблицы (аналогично функции union в SQL) и удаляем пустые значения\n",
    "data = data1.append(data2).dropna()\n",
    "\n",
    "# сохраняем в файл xlsx\n",
    "data.to_excel('data.xlsx',index=False)"
   ]
  },
  {
   "cell_type": "markdown",
   "metadata": {},
   "source": [
    "# Оценка модели"
   ]
  },
  {
   "cell_type": "code",
   "execution_count": 29,
   "metadata": {
    "ExecuteTime": {
     "end_time": "2019-12-15T18:14:13.529508Z",
     "start_time": "2019-12-15T18:14:13.468530Z"
    },
    "scrolled": false
   },
   "outputs": [
    {
     "data": {
      "text/html": [
       "<table class=\"simpletable\">\n",
       "<caption>OLS Regression Results</caption>\n",
       "<tr>\n",
       "  <th>Dep. Variable:</th>            <td>y</td>        <th>  R-squared:         </th> <td>   0.896</td>\n",
       "</tr>\n",
       "<tr>\n",
       "  <th>Model:</th>                   <td>OLS</td>       <th>  Adj. R-squared:    </th> <td>   0.893</td>\n",
       "</tr>\n",
       "<tr>\n",
       "  <th>Method:</th>             <td>Least Squares</td>  <th>  F-statistic:       </th> <td>   394.4</td>\n",
       "</tr>\n",
       "<tr>\n",
       "  <th>Date:</th>             <td>Wed, 18 Dec 2019</td> <th>  Prob (F-statistic):</th> <td>3.36e-24</td>\n",
       "</tr>\n",
       "<tr>\n",
       "  <th>Time:</th>                 <td>21:11:11</td>     <th>  Log-Likelihood:    </th> <td> -22.563</td>\n",
       "</tr>\n",
       "<tr>\n",
       "  <th>No. Observations:</th>      <td>    48</td>      <th>  AIC:               </th> <td>   49.13</td>\n",
       "</tr>\n",
       "<tr>\n",
       "  <th>Df Residuals:</th>          <td>    46</td>      <th>  BIC:               </th> <td>   52.87</td>\n",
       "</tr>\n",
       "<tr>\n",
       "  <th>Df Model:</th>              <td>     1</td>      <th>                     </th>     <td> </td>   \n",
       "</tr>\n",
       "<tr>\n",
       "  <th>Covariance Type:</th>      <td>nonrobust</td>    <th>                     </th>     <td> </td>   \n",
       "</tr>\n",
       "</table>\n",
       "<table class=\"simpletable\">\n",
       "<tr>\n",
       "    <td></td>       <th>coef</th>     <th>std err</th>      <th>t</th>      <th>P>|t|</th>  <th>[0.025</th>    <th>0.975]</th>  \n",
       "</tr>\n",
       "<tr>\n",
       "  <th>const</th> <td>    8.0565</td> <td>    0.301</td> <td>   26.784</td> <td> 0.000</td> <td>    7.451</td> <td>    8.662</td>\n",
       "</tr>\n",
       "<tr>\n",
       "  <th>x1</th>    <td>    0.8233</td> <td>    0.041</td> <td>   19.860</td> <td> 0.000</td> <td>    0.740</td> <td>    0.907</td>\n",
       "</tr>\n",
       "</table>\n",
       "<table class=\"simpletable\">\n",
       "<tr>\n",
       "  <th>Omnibus:</th>       <td> 4.825</td> <th>  Durbin-Watson:     </th> <td>   1.589</td>\n",
       "</tr>\n",
       "<tr>\n",
       "  <th>Prob(Omnibus):</th> <td> 0.090</td> <th>  Jarque-Bera (JB):  </th> <td>   5.138</td>\n",
       "</tr>\n",
       "<tr>\n",
       "  <th>Skew:</th>          <td> 0.233</td> <th>  Prob(JB):          </th> <td>  0.0766</td>\n",
       "</tr>\n",
       "<tr>\n",
       "  <th>Kurtosis:</th>      <td> 4.534</td> <th>  Cond. No.          </th> <td>    38.9</td>\n",
       "</tr>\n",
       "</table><br/><br/>Warnings:<br/>[1] Standard Errors assume that the covariance matrix of the errors is correctly specified."
      ],
      "text/plain": [
       "<class 'statsmodels.iolib.summary.Summary'>\n",
       "\"\"\"\n",
       "                            OLS Regression Results                            \n",
       "==============================================================================\n",
       "Dep. Variable:                      y   R-squared:                       0.896\n",
       "Model:                            OLS   Adj. R-squared:                  0.893\n",
       "Method:                 Least Squares   F-statistic:                     394.4\n",
       "Date:                Wed, 18 Dec 2019   Prob (F-statistic):           3.36e-24\n",
       "Time:                        21:11:11   Log-Likelihood:                -22.563\n",
       "No. Observations:                  48   AIC:                             49.13\n",
       "Df Residuals:                      46   BIC:                             52.87\n",
       "Df Model:                           1                                         \n",
       "Covariance Type:            nonrobust                                         \n",
       "==============================================================================\n",
       "                 coef    std err          t      P>|t|      [0.025      0.975]\n",
       "------------------------------------------------------------------------------\n",
       "const          8.0565      0.301     26.784      0.000       7.451       8.662\n",
       "x1             0.8233      0.041     19.860      0.000       0.740       0.907\n",
       "==============================================================================\n",
       "Omnibus:                        4.825   Durbin-Watson:                   1.589\n",
       "Prob(Omnibus):                  0.090   Jarque-Bera (JB):                5.138\n",
       "Skew:                           0.233   Prob(JB):                       0.0766\n",
       "Kurtosis:                       4.534   Cond. No.                         38.9\n",
       "==============================================================================\n",
       "\n",
       "Warnings:\n",
       "[1] Standard Errors assume that the covariance matrix of the errors is correctly specified.\n",
       "\"\"\""
      ]
     },
     "execution_count": 29,
     "metadata": {},
     "output_type": "execute_result"
    }
   ],
   "source": [
    "from sklearn.model_selection import train_test_split as tsplit\n",
    "\n",
    "# логарифмируем значения Y и R\n",
    "x = np.log(data['TOTAL REVENUES'].values)\n",
    "y = np.log(data['GDP'].values)\n",
    "\n",
    "# добавляем столбец с единицами для свободного члена\n",
    "x = np.concatenate((np.array([1]*x.shape[0]).reshape(-1,1),x.reshape(-1,1)),axis=1)\n",
    "\n",
    "# формируем тренировочную и контрольную выборки (объем контрольной выборки 10%)\n",
    "x_train, x_test, y_train, y_test = tsplit(x, y, test_size=0.1, random_state=1)\n",
    "\n",
    "# оцениванием модель с помощью МНК\n",
    "gls = sm.OLS(y_train, x_train)\n",
    "result = gls.fit()\n",
    "\n",
    "# удобное отображение параметров оценки\n",
    "result.summary()"
   ]
  },
  {
   "cell_type": "markdown",
   "metadata": {},
   "source": [
    "# Проверка предпосылок\n",
    "## 1)F-test"
   ]
  },
  {
   "cell_type": "code",
   "execution_count": 26,
   "metadata": {},
   "outputs": [
    {
     "data": {
      "text/markdown": [
       "$F$ = 394.40536984048885"
      ],
      "text/plain": [
       "<IPython.core.display.Markdown object>"
      ]
     },
     "execution_count": 26,
     "metadata": {},
     "output_type": "execute_result"
    },
    {
     "data": {
      "text/markdown": [
       "$F_{крит}$ = 4.051748692149202"
      ],
      "text/plain": [
       "<IPython.core.display.Markdown object>"
      ]
     },
     "execution_count": 26,
     "metadata": {},
     "output_type": "execute_result"
    },
    {
     "data": {
      "text/markdown": [
       "На уровне значимости 5% гипотеза о качественности модели не отвергается"
      ],
      "text/plain": [
       "<IPython.core.display.Markdown object>"
      ]
     },
     "execution_count": 26,
     "metadata": {},
     "output_type": "execute_result"
    },
    {
     "data": {
      "text/markdown": [
       "$E(\\tilde u_{c,t})$ = -7.919590908992783e-15"
      ],
      "text/plain": [
       "<IPython.core.display.Markdown object>"
      ]
     },
     "execution_count": 26,
     "metadata": {},
     "output_type": "execute_result"
    }
   ],
   "source": [
    "# объем обучающей выборки\n",
    "n = len(x_train)\n",
    "\n",
    "# вычисление k\n",
    "# если первый столбец x_train содержит только единицы, то имеется свободный член\n",
    "if np.array_equal( x_train[:,0].astype(int), np.array([1]*x_train.shape[0]) ):\n",
    "    k = x_train.shape[1]-1\n",
    "    a0 = 1 #наличие свободного члена\n",
    "else:\n",
    "    k = x_train.shape[1]\n",
    "    a0 = 0\n",
    "\n",
    "# удобный вывод проверки\n",
    "Markdown('$F$ = '+str(result.fvalue))\n",
    "Markdown('$F_{крит}$ = '+str(st.f.isf(0.05,k,n-k-a0)))\n",
    "if result.fvalue >= st.f.isf(0.05,k,n-k-a0):\n",
    "    Markdown('На уровне значимости 5% гипотеза о качественности модели не отвергается')\n",
    "else:\n",
    "    Markdown('На уровне значимости 5% гипотеза о качественности модели отвергается')\n",
    "Markdown(r'$E(\\tilde u_{c,t})$ = '+str(np.array([y - y_ for y,y_ in zip(y_train,y_pred_train)]).mean()))"
   ]
  },
  {
   "cell_type": "markdown",
   "metadata": {},
   "source": [
    "## 3)Тест Бройша — Годфри"
   ]
  },
  {
   "cell_type": "code",
   "execution_count": 36,
   "metadata": {},
   "outputs": [
    {
     "data": {
      "text/markdown": [
       "$BG$ = 1.9993268916726556"
      ],
      "text/plain": [
       "<IPython.core.display.Markdown object>"
      ]
     },
     "execution_count": 36,
     "metadata": {},
     "output_type": "execute_result"
    },
    {
     "data": {
      "text/markdown": [
       "$\\chi^2_{0.05}$ =3.8414588206941285"
      ],
      "text/plain": [
       "<IPython.core.display.Markdown object>"
      ]
     },
     "execution_count": 36,
     "metadata": {},
     "output_type": "execute_result"
    },
    {
     "data": {
      "text/markdown": [
       "На уровне значимости 5% гипотеза об отсутствии автокорреляции случайных остатков не отвергается"
      ],
      "text/plain": [
       "<IPython.core.display.Markdown object>"
      ]
     },
     "execution_count": 36,
     "metadata": {},
     "output_type": "execute_result"
    }
   ],
   "source": [
    "Markdown('$BG$ = '+str(sm.stats.diagnostic.acorr_breusch_godfrey(result,1)[0]))\n",
    "Markdown('$\\chi^2_{0.05}$ ='+str(st.chi2.isf(0.05,1)))\n",
    "if sm.stats.diagnostic.acorr_breusch_godfrey(result,1)[0] < st.chi2.isf(0.05,1):\n",
    "    Markdown('На уровне значимости 5% гипотеза об отсутствии автокорреляции случайных остатков не отвергается')\n",
    "else:\n",
    "    Markdown('На уровне значимости 5% гипотеза об отсутствии автокорреляции случайных остатков отвергается')"
   ]
  },
  {
   "cell_type": "markdown",
   "metadata": {},
   "source": [
    "# Проверка адекватности"
   ]
  },
  {
   "cell_type": "code",
   "execution_count": 41,
   "metadata": {},
   "outputs": [
    {
     "data": {
      "text/markdown": [
       "На основе контрольной выборки объема 6 точность прогнозов:$100.0$%"
      ],
      "text/plain": [
       "<IPython.core.display.Markdown object>"
      ]
     },
     "execution_count": 41,
     "metadata": {},
     "output_type": "execute_result"
    }
   ],
   "source": [
    "# прогнозы Y на основе обучающей и контрольной выборки\n",
    "y_pred_train = result.predict(x_train)\n",
    "y_pred_test = result.predict(x_test)\n",
    "\n",
    "# список для подсчета прогнозов, попавших в доверительный интервал\n",
    "scores = np.array([0]*len(y_pred_test))\n",
    "\n",
    "# считаем данные для построения доверительных интервалов \n",
    "sigma = ( sum((y-y_)**2 for y,y_ in zip(y_train,y_pred_train)) / (n-k-a0))**.5\n",
    "t = st.t.isf(0.025,n-k-a0)\n",
    "\n",
    "for i,y0 in enumerate(y_pred_test):\n",
    "    \n",
    "    q0 = 1/n + ((x_test[i].mean()-x_train.mean())**2/sum((x - x_train[:,1].mean())**2 for x in x_train[:,1]))\n",
    "    s_y0 = sigma*(q0+1)**0.5\n",
    "    \n",
    "    # проверяем, попадает ли элемент контрольной выборки в доверительный интервал\n",
    "    if y0-s_y0*t <= y_test[i] <= y0+s_y0*t:\n",
    "        scores[i] = 1\n",
    "\n",
    "Markdown('На основе контрольной выборки объема '\\\n",
    "         +str(len(y_pred_test))+' точность прогнозов:$'+str(scores.mean()*100)+'$%')"
   ]
  }
 ],
 "metadata": {
  "kernelspec": {
   "display_name": "Python 3",
   "language": "python",
   "name": "python3"
  },
  "language_info": {
   "codemirror_mode": {
    "name": "ipython",
    "version": 3
   },
   "file_extension": ".py",
   "mimetype": "text/x-python",
   "name": "python",
   "nbconvert_exporter": "python",
   "pygments_lexer": "ipython3",
   "version": "3.7.1"
  }
 },
 "nbformat": 4,
 "nbformat_minor": 2
}
