{
 "cells": [
  {
   "cell_type": "markdown",
   "metadata": {},
   "source": [
    "# Эмпирические аппроксимации для вероятности разорения в классическом процессе риска\n"
   ]
  },
  {
   "cell_type": "markdown",
   "metadata": {},
   "source": [
    "## Введение"
   ]
  },
  {
   "cell_type": "markdown",
   "metadata": {},
   "source": [
    "Целью данной работы является оценка вероятность разорения страховой компании, основываясь на наблюдаемых данных: имеющемся капитале, страховых взносах и выплатах. Термин \"разорение\" означает в данном контексте не буквальное разорение, а событие, заключающееся в том, что страховые выплаты в определеннный момент времени превышают имеющийся капитал компании в начальный момент времени и полученные после страховые взносы. Возможность вычисления этой вероятности позволяет выбрать страховой компании такие цены взносов, при которой вероятность разорения будет находится в пределах допустимого, но при этом цена премии не будет слишком высока.\n",
    "\n",
    "Для нахождения вероятности будет использоваться эмпирическая аппроксимация в рамках модели классического процесса риска. Есть две формулы аппроксимации: Де Вилдера и Беекмана-Бауэрса. Чтобы их использовать, нужно будет узнать, по какому закону и с какими параметрами распределены страховые выплаты. Поэтому будут выдвигаться гипотезы о распределении страховых выплат. Эти гипотезы будут проходить проверку с помощью критерия согласия хи-квадрат. В качестве альтернативного решения будут использована точечная оценка аппроксимации Де Вилдера.\n",
    "\n",
    "Эта работа разделена на пять частей: теоретическую справку, где будут объяснен классический процесс риска и критерий согласия хи-квадрат Фишера; проверку работоспособности критерия хи-квадрат в Python при помощи генерации случайных выборок из разных распределений; предварительный анализ данных, на основе которых будет вычислены вероятности разорения; вычисление вероятности разорения тремя способами; заключение.\n",
    "\n",
    "Большая часть информации, на которой основывается эта работа, взята из [1]. Все вычисления и визуализации выполнены на языке Python 3 в IDE Jupyter Notebook. \n",
    "\n",
    "Работа состоит из введения, двух глав, заключения, списка использованных ресурсов, содержащего 4 наименования, и приложений. Объем - 15 страниц (22 страницы, включая приложения)."
   ]
  },
  {
   "cell_type": "markdown",
   "metadata": {},
   "source": [
    "## Теоретическая часть"
   ]
  },
  {
   "cell_type": "markdown",
   "metadata": {},
   "source": [
    "### Классический процесс риска"
   ]
  },
  {
   "cell_type": "markdown",
   "metadata": {},
   "source": [
    "\n",
    "\n",
    "Пусть$\\newcommand{\\ld}{\\lambda} \\newcommand{\\al}{\\alpha}$ $\\varsigma_i$ - страховой взнос с $i$-ого клиента, $N_+(t)$ - количество заключенных контрактов за время $[0; t]$. Тогда доход страховой компании за период $[0; t]$ считается так:\n",
    "\n",
    "$$R_+(t) = \\sum_{i = 1}^{N_+(t)}\\varsigma_i.$$\n",
    "\n",
    "Пусть $X_i$ - размер страховой выплаты в момент времени $T_i$ ($i \\geq 1; 0 \\leq T_1 \\leq T_2 \\leq ... \\leq t$ ); $N_-(t)$ - количество страховых выплат за период $[0; t]$. Следовательно, итоговый убыток страховой компании $R_-(t)$ за время $[0; t]$ равен:\n",
    "\n",
    "$$R_-(t)= \\sum_{i = 1}^{N_-(t)}X_i. $$\n",
    "\n",
    "Тогда прибыль $R_d(t)$ равна:\n",
    "\n",
    "$$R_d(t) = R_+(t) - R_-(t) = \\sum_{i = 1}^{N_+(t)}\\varsigma_i - \\sum_{i = 1}^{N_-(t)}X_i.$$\n",
    "\n",
    "Пусть $u$ - начальный капитал (имеется в виду суммарный капитал в начальный момент времени) страховой компании. Процесс $R(t) = u + R_d(t)$ называется процессом риска\n",
    "\n",
    "Пусть $\\tau = \\inf\\{t: R(t) + u < 0\\}$ - момент разорения. Тогда вероятность разорения на бесконечном промежутке времени при начальном капитале $u$ определяется так:\n",
    "\n",
    "$$\\psi(u) = P(\\tau < \\infty | R(0) = u),$$\n",
    "\n",
    "вероятность разорения на конечном промежутке времени $[0; t]$ ($t > 0$) при начальном капитале $u$:\n",
    "\n",
    "$$\\psi(t, u) = P(\\tau \\leq t | R(0) = u).$$\n",
    "\n",
    "В данной работе будет считаться вероятность разорения на бесконечном промежутке времени.\n",
    "\n",
    "Можно определить вероятность неразорения:\n",
    "\n",
    "$$\\phi(u) = \\begin{cases} 1 - \\psi(u), \\ u \\geq 0 \\\\ 0, \\ u \\leq 0\\end{cases}$$\n",
    "\n",
    "Для упрощения модели будет предполагаться, что случайные величины $\\varsigma_i, \\ i = 1, 2, ...$ попарно независимы, независимы от процесса $N_+(t)$, имеют одинаковое распределение, и пусть существует $b = E(\\varsigma_1).$ Пусть процесс $N_+(t)$ является пуассоновским с интенсивностью $\\lambda_+$, тогда:\n",
    "\n",
    "$$E(R_+(t)) = b\\lambda_+t, \\ t \\geq 0.$$\n",
    "\n",
    "Пусть стандартное отклонение случайной величины $\\varsigma_i$ невелико, тогда случайный процесс $R_+(t)$ (доход страховой компании) приближенно равен своему математическому ожиданию:\n",
    "\n",
    "$$R_+(t) \\approx ct \\ \\ \\ (c = b\\lambda_+).$$\n",
    "\n",
    "Пусть $X_i, i = 1, 2, ...$ попарно независимы, независимы от процесса $N_(t)$ и имеют одинаковую функцию распределения $F(x)$, процесс $N_-(t))$ является процессом восстановления, т.е. случайные величины $\\theta_i = T_i - T_{i - 1} (i \\geq 1)$ независимы и одинаково распределены. Также предположим, что $E(X_1) = \\mu < \\infty$ и $E(\\theta_1) = \\alpha < \\infty.$\n",
    "\n",
    "Введя все эти предположения, получаем модель, именуемую процессом риска Спарре Андерсена:\n",
    "\n",
    "$$R(t) = u + ct - \\sum_{k = 1}^{N(t)}X_k, \\ t \\geq 0,$$\n",
    "\n",
    "где $c > 0, N(t)$ - процесс восстановления, $X_1, X_2, ...$ - попарно независимые случайные величины с одинаковой функцией распределения $F(x)$ (причем $F(0) = 0$) и независимые от процесса $N(t)$\n",
    "\n",
    "Нагрузка (или коэффициент) безопасности $\\rho$, показывающая \"удельный\" доход страховой компании в единицу времени:\n",
    "\n",
    "$$\\rho = \\frac{c\\alpha - \\mu}{\\mu} = \\frac{c\\alpha}{\\mu} - 1.$$\n",
    "\n",
    "Классический процесс риска - это процесс риска Спарре Андерсена, в котором процесс $N(t)$ - пуассоновский процесс с интенсивностью $\\lambda > 0.$\n",
    "\n",
    "В классическом процессе риска нагрузка безопасности приобретает вид:\n",
    "\n",
    "$$\\rho = \\frac{c - \\lambda\\mu}{\\lambda\\mu} = \\frac{c}{\\lambda\\mu} - 1.$$\n",
    "\n",
    "В этой модели $E(R(t)) = u + (c - \\frac{\\mu}{\\alpha})t$. Следовательно, при $c\\alpha < \\mu E(R(t))$ будет линейно убывать со временем, и вероятность разорения будет равна 1."
   ]
  },
  {
   "cell_type": "markdown",
   "metadata": {},
   "source": [
    "### Эмпирические аппроксимации вероятности разорения\n",
    "#### Аппроксимация Де Вилдера\n",
    "\n",
    "Идея этой аппроксимации в том, что берется формула, справедливая для классического процесса риска $R^*(t)$ с экспоненциально распределенными выплатами с интенсивностью $\\lambda^*$ (т.е.  $E(X^*_i - X^*_{i - 1}) = \\frac{1}{\\ld^*}$), математическим ожиданием выплат $\\mu^*$, нагрузкой безопасности $\\rho^*$:\n",
    "\n",
    "$$\\psi(u) = \\frac{1}{1 + \\rho^*}\\exp\\Bigg \\{-\\frac{\\rho^*u}{\\mu^*(1 + \\rho^*)}\\Bigg \\},$$\n",
    "\n",
    "и первые три начальных момента $R^*(t)$ приравниваются к начальным моментам $R(t)$, где $R(t)$ - процесс риска Спарре Андерсена с соответствующими параметрами $\\ld, \\mu, \\rho$:\n",
    "\n",
    "$$E[(R^*(t))^n] = E[(R(t))^n], \\ \\ \\ n = 1, 2, 3.$$\n",
    "\n",
    "Отсюда получаются равенства:\n",
    "\n",
    "$$\\mu^* = \\frac{\\mu_3}{3\\mu_2}, \\ \\rho^* = \\frac{2\\rho\\mu\\mu_3}{3\\mu_2^2}, \\ \\ld^* = \\frac{9\\ld\\mu_2^3}{2\\mu_3^2},$$\n",
    "\n",
    "где $\\mu_i - i$-ый начальный момент $X_1$\n",
    "\n",
    "Аппроксимацию Де Вилдера:\n",
    "\n",
    "$$\\psi(u) \\approx \\psi_{DV}(u) = \\frac{1}{1 + \\rho^*}\\exp\\Bigg \\{-\\frac{\\rho^*u}{\\mu^*(1 + \\rho^*)}\\Bigg \\}.$$\n",
    "\n",
    "\n",
    "В качестве статистических оценок (найденных методом максимального правдоподобия) используются:\n",
    "\n",
    "$$\\hat{\\ld} = \\frac{N(t)}{t}; \\ \\hat{\\mu} = \\overline{X}; \\ \\hat{\\rho} = \\frac{ct}{N(t)\\overline{X}} - 1,$$\n",
    "\n",
    "однако при их использовании получается не оценка вероятности разорения, а оценка ее аппроксимации, поэтому говорить о несмещенности и состоятельности этих оценок относительно самой вероятности не приходится.  \n",
    "\n",
    "#### Аппроксимация Беекмана-Бауэрса\n",
    "\n",
    "Для этой аппроксимации используется формула Поллачека-Хинчина-Беекмана для вероятности разорения в классическом процессе риска:\n",
    "\n",
    "$$\\psi(u) = P(Y_1 + ... + Y_M > u) = 1 - \\frac{\\rho}{1 + \\rho}\\sum_{n = 0}^{\\infty}\\frac{H^{*n}(u)}{(1 + \\rho)^n},$$\n",
    "\n",
    "где $Y_1, Y_2, ...$ - независимые случайные величины с одинаковой плотностью $h(x) = \\frac{1}{\\mu}(1 - F(x)) \\ (x > 0);  H(X)$ - соответственно, их функция распределения; $M$ - независимая от $Y_1, Y_2, ...$ случайная величина с геометрическим распределением, имеющим параметр $p = \\frac{1}{1 + \\rho}.$\n",
    "\n",
    "С помощью этой формулы выводится тождество (справедливое при $c > \\ld\\mu, \\ c = E(\\varsigma_1)\\ld$):\n",
    "\n",
    "$$\\psi(u) = \\frac{1 - B(u)}{1 + \\rho},$$\n",
    "\n",
    "$B(u) = P\\big(\\inf_{t \\geq 0}R(t) < -u\\big|\\inf_{t \\geq 0}R(t) < 0\\big).$\n",
    "\n",
    "Суть аппроксимации состоит в замене $B(u)$ функцией $G_{\\al,\\gamma}(u)$, при условии, что первые их два начальные момента равны. В итоге, имеем:\n",
    "\n",
    "$$\\psi(u) \\approx \\psi_{B \\ B}(u) = \\frac{1 - G_{\\al,\\gamma}(u)}{1 + \\rho},$$\n",
    "\n",
    "где $\\al = \\frac{\\mu_B^2}{\\sigma_B^2}, \\ \\gamma = \\frac{\\mu_B}{\\sigma_B^2}, \\ \\mu_B = \\frac{\\mu_2(1 + \\rho)}{2\\rho\\mu}, \\sigma^2_B = \\frac{\\mu_2(1 + \\rho)}{2\\rho\\mu}\\bigg (\\frac{2\\mu_3}{3\\mu_2} + \\frac{\\mu_2(1 - \\rho)}{2\\rho\\mu}\\bigg ), \\ G_{\\al,\\gamma}(u)$ - функция гамма-распределения:\n"
   ]
  },
  {
   "cell_type": "markdown",
   "metadata": {},
   "source": [
    "### Критерий согласия хи-квадрат Фишера"
   ]
  },
  {
   "cell_type": "markdown",
   "metadata": {},
   "source": [
    "Критерии проверки гипотезы о возможном виде закона распределения случайной величины называют критериями согласия. Основной гипотезой $H_0$ является: $F(x) = F_0(x, \\theta_1, ..., \\theta_r),$ где $F(x)$ - неизвестный закон распределения случайной величины $X$, $F_0(x)$ - предполагаемый закон распределения с неизвестными параметрами $\\theta_i, \\ i = \\overline{1, r}$. Альтернативная гипотеза явным образом не выдвигается. \n",
    "\n",
    "Пусть $X_1, ..., X_n$ - независимая однородная выборка из генеральной совокупности с неизвестным распределением $F(x) = P(X_1 < x),$ предполагаемое распределение имеет вид $F_0(x, \\theta_1, ..., \\theta_r) = F_0(x, \\theta)$. Пусть имеются $a$ и $b$: $a < X_{(1)}, b > X_{(n)}$, где $X_{(1)}, X_{(n)}$ - члены вариационного ряда. Разделим интервал $[a, b]$ на k равных непересекающихся частей (k - произвольное число). Пусть $\\nu_j$ - количество элементов выборки, попавших в $j$-ий интервал. Определим числа $p^{0}_j$: $p^{0}_j = F_0(j\\delta, \\theta) - F_0((j - 1)\\delta, \\theta), \\ j = \\overline{1, k}, \\ \\delta = \\frac{b - a}{k}; \\ \\theta \\ $  нужно, конечно же, оценить (т.е. $p^{0}_j$ - это вероятность попадания случайно взятого элемента генеральной совокупности при условии, что $F(x) = F_0(x, \\theta)$).\n",
    "\n",
    "Статистикой критерия хи-квадрат является величина:\n",
    "\n",
    "$$X^2 = \\sum^k_{j = 1}\\frac{(\\nu_j - np^{0}_j)^2}{np^{0}_j}$$\n",
    "\n",
    "Эта статистика показывает общее отклонение реальных данных от теоретических, поэтому чем она больше, тем меньше модель согласуется с реальностью. По теореме Пирсона, $X^2$ асимптотически стремится к $\\chi^2(k - r - 1)$.\n",
    "Возьмем малое число $\\al$, большее 0. Тогда можно определить критическую область K:\n",
    "\n",
    "$$K = \\{X^2 > \\chi^2_{k - r - 1}(\\al)\\},$$\n",
    "\n",
    "где $\\ \\chi^2_{k - r - 1}(\\al)$ - процентная точка уровня $\\al$ распределения хи-квадрат с $k - r - 1$ степенями свободы.\n",
    "Если $X^2 \\in K$, то $H_0$ отвергается. При этом вероятность ошибки первого рода равна $\\al$ (однако это справедливо лишь при бесконечно большом объеме выборки, точность этой ошибки в реальных выборках неизвестна)."
   ]
  },
  {
   "cell_type": "markdown",
   "metadata": {
    "heading_collapsed": true
   },
   "source": [
    "## Практическая часть"
   ]
  },
  {
   "cell_type": "markdown",
   "metadata": {
    "hidden": true
   },
   "source": [
    "### Проверка работоспособности критерия хи-квадрат в Python\n",
    "Имеется код, взятый из [4] и модифицированный мною (использована другая функция критерия согласия, с поправкой Йетса, добавлена вероятность ошибки).\n",
    "\n",
    "Алгоритм: предполагаем, что выборка распределена по определенному закону, оцениваем параметры методом максимального правдоподобия, вычисляем значение статистики критерия $X^2$. Делаем так для всех имеющихся у нас законов распределения, и выбираем тот, у которого наименьшее значение статистики. \n",
    "\n",
    "Используются непрерывные распределения, наиболее часто употребляемые в качестве распределения размера страховой выплаты: равномерное, гамма, экспоненциальное, логнормальное, Вейбулла, хи, Рэлея.\n",
    "\n",
    "Сгенерируем выборки разных распределений с помощью модуля numpy.random (примечание относительно другой библиотеки, отвечающей за законы распределения scipy.stats: при выводе параметров распределения в некоторых случаях будут выводиться два дополнительных параметра - они обозначают loc (положение) и scale (масштаб): $f(x, loc, scale) = \\frac{f(\\frac{x-loc}{scale})}{scale}$, где $f$ - плотность распределения), и посмотрим, как программа определяет распределения. \n",
    "\n",
    "Стоит при этом учитывать, что некоторые законы распределения являются частными случаями других законов (экспоненциальное и хи-квадрат распределения являются частными случаями гамма распределения), так что если мы генерируем, например, выборку из экспоненциального распределения, и в ответ получаем гамма распределение, то это не противоречит логике.\n",
    "\n",
    "Выборка из равномерного распределения объема 1000 с параметрами $[5, 20]$ дает равномерное распределение с параметрами $[5, 15]$, что довольно близко к реальности. Выборка из гамма-распределения с параметром формы 5 объема 10000 дает правильный результат с различиями, не превышающими один знак после запятой. Единственное, что вызывает недоверие, так как это нормальная выборка, которая дает гамма-распределение. Посмотрим, как выглядят плотности этих двух распределений:"
   ]
  },
  {
   "cell_type": "code",
   "execution_count": 7,
   "metadata": {
    "ExecuteTime": {
     "end_time": "2019-05-22T15:02:00.493616Z",
     "start_time": "2019-05-22T15:01:59.967924Z"
    },
    "hidden": true,
    "scrolled": true
   },
   "outputs": [
    {
     "data": {
      "image/png": "[encoded data removed]",
      "text/plain": [
       "<Figure size 432x288 with 1 Axes>"
      ]
     },
     "metadata": {
      "needs_background": "light"
     },
     "output_type": "display_data"
    }
   ],
   "source": [
    "#у вектора x2 шаг меньше, чтобы были видны различия между графиками\n",
    "x1 = np.arange(-5, 5, 0.01) \n",
    "x2 = np.arange(-5, 5, 0.1) \n",
    "y1 = st.norm.pdf(x1) #плотности распределений\n",
    "y2 = st.gamma.pdf(x2, 36632.30650075304, -189.21656328027439, 0.00516493776007497)\n",
    "plt.scatter(x1, y1, color='gray') \n",
    "plt.scatter(x2, y2, color='black')\n",
    "plt.title('Плотности стандартного нормального (серый цвет) и гамма (черный цвет) распределений');"
   ]
  },
  {
   "cell_type": "markdown",
   "metadata": {
    "hidden": true
   },
   "source": [
    "Теперь правильность программы не вызывает сомнений.\n",
    "\n",
    "Ниже представлены результаты в виде таблицы, где заголовок показывает, из какого распределения и с какими параметрами сгенерирована выборка, а в самой таблице результаты работы программы."
   ]
  },
  {
   "cell_type": "code",
   "execution_count": 18,
   "metadata": {
    "ExecuteTime": {
     "end_time": "2019-05-14T15:43:07.465308Z",
     "start_time": "2019-05-14T15:43:06.122997Z"
    },
    "hidden": true,
    "scrolled": true
   },
   "outputs": [
    {
     "data": {
      "text/html": [
       "<div>\n",
       "<style scoped>\n",
       "    .dataframe tbody tr th:only-of-type {\n",
       "        vertical-align: middle;\n",
       "    }\n",
       "\n",
       "    .dataframe tbody tr th {\n",
       "        vertical-align: top;\n",
       "    }\n",
       "\n",
       "    .dataframe thead th {\n",
       "        text-align: right;\n",
       "    }\n",
       "</style>\n",
       "<table border=\"1\" class=\"dataframe\">\n",
       "  <thead>\n",
       "    <tr style=\"text-align: right;\">\n",
       "      <th></th>\n",
       "      <th>Распределение: равномерное, 5, 20</th>\n",
       "    </tr>\n",
       "  </thead>\n",
       "  <tbody>\n",
       "    <tr>\n",
       "      <th>Best fitting distribution:</th>\n",
       "      <td>uniform</td>\n",
       "    </tr>\n",
       "    <tr>\n",
       "      <th>Best c value:</th>\n",
       "      <td>5.0453735581151</td>\n",
       "    </tr>\n",
       "    <tr>\n",
       "      <th>Best p value:</th>\n",
       "      <td>0.88812646680803</td>\n",
       "    </tr>\n",
       "    <tr>\n",
       "      <th>Parameters for the best fit:</th>\n",
       "      <td>(5.019437776251886, 14.97837887335677)</td>\n",
       "    </tr>\n",
       "    <tr>\n",
       "      <th>Type I error:</th>\n",
       "      <td>0.16966487769969</td>\n",
       "    </tr>\n",
       "  </tbody>\n",
       "</table>\n",
       "</div>"
      ],
      "text/latex": [
       "\\begin{center}\\scalebox{0.7}{\\begin{tabular}{ll}\n",
       "\\toprule\n",
       "{} &       Распределение: равномерное, 5, 20 \\\\\n",
       "\\midrule\n",
       "Best fitting distribution:   &                                 uniform \\\\\n",
       "Best c value:                &                         5.0453735581151 \\\\\n",
       "Best p value:                &                        0.88812646680803 \\\\\n",
       "Parameters for the best fit: &  (5.019437776251886, 14.97837887335677) \\\\\n",
       "Type I error:                &                        0.16966487769969 \\\\\n",
       "\\bottomrule\n",
       "\\end{tabular}\n",
       "}\\end{center}"
      ],
      "text/plain": [
       "                                   Распределение: равномерное, 5, 20\n",
       "Best fitting distribution:                                   uniform\n",
       "Best c value:                                        5.0453735581151\n",
       "Best p value:                                       0.88812646680803\n",
       "Parameters for the best fit:  (5.019437776251886, 14.97837887335677)\n",
       "Type I error:                                       0.16966487769969"
      ]
     },
     "execution_count": 18,
     "metadata": {},
     "output_type": "execute_result"
    }
   ],
   "source": [
    "sample1 = np.random.uniform(5, 20, 1000)\n",
    "dist, c, params, dist_results, a, t = best_dist(sample1)\n",
    "t.columns = ['Распределение: равномерное, 5, 20']\n",
    "t"
   ]
  },
  {
   "cell_type": "code",
   "execution_count": 19,
   "metadata": {
    "ExecuteTime": {
     "end_time": "2019-05-14T15:43:16.379870Z",
     "start_time": "2019-05-14T15:43:13.296773Z"
    },
    "hidden": true,
    "scrolled": false
   },
   "outputs": [
    {
     "data": {
      "text/html": [
       "<div>\n",
       "<style scoped>\n",
       "    .dataframe tbody tr th:only-of-type {\n",
       "        vertical-align: middle;\n",
       "    }\n",
       "\n",
       "    .dataframe tbody tr th {\n",
       "        vertical-align: top;\n",
       "    }\n",
       "\n",
       "    .dataframe thead th {\n",
       "        text-align: right;\n",
       "    }\n",
       "</style>\n",
       "<table border=\"1\" class=\"dataframe\">\n",
       "  <thead>\n",
       "    <tr style=\"text-align: right;\">\n",
       "      <th></th>\n",
       "      <th>Распределение: нормальное, 0, 1</th>\n",
       "    </tr>\n",
       "  </thead>\n",
       "  <tbody>\n",
       "    <tr>\n",
       "      <th>Best fitting distribution:</th>\n",
       "      <td>gamma</td>\n",
       "    </tr>\n",
       "    <tr>\n",
       "      <th>Best c value:</th>\n",
       "      <td>28.458863110099</td>\n",
       "    </tr>\n",
       "    <tr>\n",
       "      <th>Best p value:</th>\n",
       "      <td>0.99997735190956</td>\n",
       "    </tr>\n",
       "    <tr>\n",
       "      <th>Parameters for the best fit:</th>\n",
       "      <td>(36632.30650075304, -189.21656328027439, 0.00516493776007497)</td>\n",
       "    </tr>\n",
       "    <tr>\n",
       "      <th>Type I error:</th>\n",
       "      <td>3.4716722463026e-05</td>\n",
       "    </tr>\n",
       "  </tbody>\n",
       "</table>\n",
       "</div>"
      ],
      "text/latex": [
       "\\begin{center}\\scalebox{0.7}{\\begin{tabular}{ll}\n",
       "\\toprule\n",
       "{} &                                Распределение: нормальное, 0, 1 \\\\\n",
       "\\midrule\n",
       "Best fitting distribution:   &                                                          gamma \\\\\n",
       "Best c value:                &                                                28.458863110099 \\\\\n",
       "Best p value:                &                                               0.99997735190956 \\\\\n",
       "Parameters for the best fit: &  (36632.30650075304, -189.21656328027439, 0.00516493776007497) \\\\\n",
       "Type I error:                &                                            3.4716722463026e-05 \\\\\n",
       "\\bottomrule\n",
       "\\end{tabular}\n",
       "}\\end{center}"
      ],
      "text/plain": [
       "                                                            Распределение: нормальное, 0, 1\n",
       "Best fitting distribution:                                                            gamma\n",
       "Best c value:                                                               28.458863110099\n",
       "Best p value:                                                              0.99997735190956\n",
       "Parameters for the best fit:  (36632.30650075304, -189.21656328027439, 0.00516493776007497)\n",
       "Type I error:                                                           3.4716722463026e-05"
      ]
     },
     "execution_count": 19,
     "metadata": {},
     "output_type": "execute_result"
    }
   ],
   "source": [
    "sample2 = np.random.normal(size = 10000)\n",
    "dist, c, params, dist_results, a, t = best_dist(sample2)\n",
    "t.columns = ['Распределение: нормальное, 0, 1']\n",
    "t"
   ]
  },
  {
   "cell_type": "code",
   "execution_count": 20,
   "metadata": {
    "ExecuteTime": {
     "end_time": "2019-05-14T15:43:22.911161Z",
     "start_time": "2019-05-14T15:43:19.923805Z"
    },
    "hidden": true,
    "scrolled": true
   },
   "outputs": [
    {
     "data": {
      "text/html": [
       "<div>\n",
       "<style scoped>\n",
       "    .dataframe tbody tr th:only-of-type {\n",
       "        vertical-align: middle;\n",
       "    }\n",
       "\n",
       "    .dataframe tbody tr th {\n",
       "        vertical-align: top;\n",
       "    }\n",
       "\n",
       "    .dataframe thead th {\n",
       "        text-align: right;\n",
       "    }\n",
       "</style>\n",
       "<table border=\"1\" class=\"dataframe\">\n",
       "  <thead>\n",
       "    <tr style=\"text-align: right;\">\n",
       "      <th></th>\n",
       "      <th>Распределение: гамма, 5</th>\n",
       "    </tr>\n",
       "  </thead>\n",
       "  <tbody>\n",
       "    <tr>\n",
       "      <th>Best fitting distribution:</th>\n",
       "      <td>gamma</td>\n",
       "    </tr>\n",
       "    <tr>\n",
       "      <th>Best c value:</th>\n",
       "      <td>27.97418820701</td>\n",
       "    </tr>\n",
       "    <tr>\n",
       "      <th>Best p value:</th>\n",
       "      <td>0.99994104416364</td>\n",
       "    </tr>\n",
       "    <tr>\n",
       "      <th>Parameters for the best fit:</th>\n",
       "      <td>(5.156357380053214, -0.02483490363486638, 0.9818222582614679)</td>\n",
       "    </tr>\n",
       "    <tr>\n",
       "      <th>Type I error:</th>\n",
       "      <td>8.9125037480197e-05</td>\n",
       "    </tr>\n",
       "  </tbody>\n",
       "</table>\n",
       "</div>"
      ],
      "text/latex": [
       "\\begin{center}\\scalebox{0.7}{\\begin{tabular}{ll}\n",
       "\\toprule\n",
       "{} &                                        Распределение: гамма, 5 \\\\\n",
       "\\midrule\n",
       "Best fitting distribution:   &                                                          gamma \\\\\n",
       "Best c value:                &                                                 27.97418820701 \\\\\n",
       "Best p value:                &                                               0.99994104416364 \\\\\n",
       "Parameters for the best fit: &  (5.156357380053214, -0.02483490363486638, 0.9818222582614679) \\\\\n",
       "Type I error:                &                                            8.9125037480197e-05 \\\\\n",
       "\\bottomrule\n",
       "\\end{tabular}\n",
       "}\\end{center}"
      ],
      "text/plain": [
       "                                                                    Распределение: гамма, 5\n",
       "Best fitting distribution:                                                            gamma\n",
       "Best c value:                                                                27.97418820701\n",
       "Best p value:                                                              0.99994104416364\n",
       "Parameters for the best fit:  (5.156357380053214, -0.02483490363486638, 0.9818222582614679)\n",
       "Type I error:                                                           8.9125037480197e-05"
      ]
     },
     "execution_count": 20,
     "metadata": {},
     "output_type": "execute_result"
    }
   ],
   "source": [
    "sample4 = np.random.gamma(5, size = 10000)\n",
    "dist, c, params, dist_results, a, t = best_dist(sample4)\n",
    "t.columns = ['Распределение: гамма, 5']\n",
    "t"
   ]
  },
  {
   "cell_type": "markdown",
   "metadata": {
    "heading_collapsed": true,
    "hidden": true
   },
   "source": [
    "### Предварительный анализ данных "
   ]
  },
  {
   "cell_type": "markdown",
   "metadata": {
    "hidden": true
   },
   "source": [
    "Для оценки вероятности разорения используются реальные данные о страховых взносах и выплатах компании AIICO INSURANCE [3]. Данные показывают, в какие дни были произведены взносы и выплаты и в каком количестве. Будем считать, что суммарная выплата за $i$-ый день является $i$-ым взносом. Данные о премиях агрегированы ежегодно."
   ]
  },
  {
   "cell_type": "code",
   "execution_count": 49,
   "metadata": {
    "ExecuteTime": {
     "end_time": "2019-05-19T10:35:18.889100Z",
     "start_time": "2019-05-19T10:35:18.848122Z"
    },
    "cell_style": "split",
    "hidden": true,
    "scrolled": false
   },
   "outputs": [
    {
     "data": {
      "text/html": [
       "<div>\n",
       "<style scoped>\n",
       "    .dataframe tbody tr th:only-of-type {\n",
       "        vertical-align: middle;\n",
       "    }\n",
       "\n",
       "    .dataframe tbody tr th {\n",
       "        vertical-align: top;\n",
       "    }\n",
       "\n",
       "    .dataframe thead th {\n",
       "        text-align: right;\n",
       "    }\n",
       "</style>\n",
       "<table border=\"1\" class=\"dataframe\">\n",
       "  <thead>\n",
       "    <tr style=\"text-align: right;\">\n",
       "      <th></th>\n",
       "      <th>Дата</th>\n",
       "      <th>Суммарная выплата, млрд найр</th>\n",
       "    </tr>\n",
       "  </thead>\n",
       "  <tbody>\n",
       "    <tr>\n",
       "      <th>0</th>\n",
       "      <td>13/01/2013</td>\n",
       "      <td>0.40740672629968</td>\n",
       "    </tr>\n",
       "    <tr>\n",
       "      <th>1</th>\n",
       "      <td>17/01/2013</td>\n",
       "      <td>0.37808702025706</td>\n",
       "    </tr>\n",
       "    <tr>\n",
       "      <th>2</th>\n",
       "      <td>17/01/2013</td>\n",
       "      <td>0.44022941118532</td>\n",
       "    </tr>\n",
       "    <tr>\n",
       "      <th>3</th>\n",
       "      <td>28/01/2013</td>\n",
       "      <td>0.37846322639732</td>\n",
       "    </tr>\n",
       "    <tr>\n",
       "      <th>4</th>\n",
       "      <td>08/02/2013</td>\n",
       "      <td>0.49161161887138</td>\n",
       "    </tr>\n",
       "    <tr>\n",
       "      <th>5</th>\n",
       "      <td>12/02/2013</td>\n",
       "      <td>0.47385809130551</td>\n",
       "    </tr>\n",
       "    <tr>\n",
       "      <th>6</th>\n",
       "      <td>14/03/2013</td>\n",
       "      <td>0.55588639937984</td>\n",
       "    </tr>\n",
       "    <tr>\n",
       "      <th>...</th>\n",
       "      <td>...</td>\n",
       "      <td>...</td>\n",
       "    </tr>\n",
       "    <tr>\n",
       "      <th>114</th>\n",
       "      <td>25/08/2018</td>\n",
       "      <td>1.09915741653977</td>\n",
       "    </tr>\n",
       "    <tr>\n",
       "      <th>115</th>\n",
       "      <td>23/09/2018</td>\n",
       "      <td>1.10094835455484</td>\n",
       "    </tr>\n",
       "    <tr>\n",
       "      <th>116</th>\n",
       "      <td>24/09/2018</td>\n",
       "      <td>1.91219881198010</td>\n",
       "    </tr>\n",
       "    <tr>\n",
       "      <th>117</th>\n",
       "      <td>13/11/2018</td>\n",
       "      <td>1.35758580002022</td>\n",
       "    </tr>\n",
       "    <tr>\n",
       "      <th>118</th>\n",
       "      <td>21/11/2018</td>\n",
       "      <td>1.76768655918821</td>\n",
       "    </tr>\n",
       "    <tr>\n",
       "      <th>119</th>\n",
       "      <td>22/11/2018</td>\n",
       "      <td>1.52725627064678</td>\n",
       "    </tr>\n",
       "    <tr>\n",
       "      <th>120</th>\n",
       "      <td>08/12/2018</td>\n",
       "      <td>2.09455803581975</td>\n",
       "    </tr>\n",
       "  </tbody>\n",
       "</table>\n",
       "<p>121 rows × 2 columns</p>\n",
       "</div>"
      ],
      "text/latex": [
       "\\begin{center}\\scalebox{0.7}{\\begin{tabular}{llr}\n",
       "\\toprule\n",
       "{} &        Дата &  Суммарная выплата, млрд найр \\\\\n",
       "\\midrule\n",
       "0   &  13/01/2013 &              0.40740672629968 \\\\\n",
       "1   &  17/01/2013 &              0.37808702025706 \\\\\n",
       "2   &  17/01/2013 &              0.44022941118532 \\\\\n",
       "3   &  28/01/2013 &              0.37846322639732 \\\\\n",
       "4   &  08/02/2013 &              0.49161161887138 \\\\\n",
       "5   &  12/02/2013 &              0.47385809130551 \\\\\n",
       "6   &  14/03/2013 &              0.55588639937984 \\\\\n",
       "7   &  26/03/2013 &              0.46090474503748 \\\\\n",
       "8   &  01/04/2013 &              0.47795493850356 \\\\\n",
       "9   &  24/05/2013 &              0.30180049273668 \\\\\n",
       "10  &  26/05/2013 &              0.38771945308129 \\\\\n",
       "11  &  04/06/2013 &              0.40241697260729 \\\\\n",
       "12  &  04/07/2013 &              0.40255274407476 \\\\\n",
       "13  &  25/08/2013 &              0.33979336348679 \\\\\n",
       "14  &  06/09/2013 &              0.45909637874117 \\\\\n",
       "15  &  20/09/2013 &              0.44999757285720 \\\\\n",
       "16  &  26/09/2013 &              0.40869996927891 \\\\\n",
       "17  &  29/09/2013 &              0.38638755581024 \\\\\n",
       "18  &  13/10/2013 &              0.49188250418573 \\\\\n",
       "19  &  09/12/2013 &              0.53488181152095 \\\\\n",
       "20  &  12/12/2013 &              0.46568659775160 \\\\\n",
       "21  &  22/12/2013 &              0.53918032970268 \\\\\n",
       "22  &  25/12/2013 &              0.55301707692757 \\\\\n",
       "23  &  10/01/2014 &              0.40769733310342 \\\\\n",
       "24  &  12/02/2014 &              0.50559381536435 \\\\\n",
       "25  &  24/02/2014 &              0.52213078544061 \\\\\n",
       "26  &  12/03/2014 &              0.43347967757808 \\\\\n",
       "27  &  07/04/2014 &              0.40461169957414 \\\\\n",
       "28  &  27/04/2014 &              0.52263018910098 \\\\\n",
       "29  &  27/04/2014 &              0.50441464972279 \\\\\n",
       "30  &  12/05/2014 &              0.50027428066024 \\\\\n",
       "31  &  21/05/2014 &              0.50245168714125 \\\\\n",
       "32  &  31/05/2014 &              0.61333940091782 \\\\\n",
       "33  &  05/06/2014 &              0.41908599393944 \\\\\n",
       "34  &  22/06/2014 &              0.47921759168725 \\\\\n",
       "35  &  03/07/2014 &              0.36611612411906 \\\\\n",
       "36  &  05/07/2014 &              0.43165916728731 \\\\\n",
       "37  &  18/09/2014 &              0.42058636059990 \\\\\n",
       "38  &  28/09/2014 &              0.55499317863359 \\\\\n",
       "39  &  10/10/2014 &              0.49225543029558 \\\\\n",
       "40  &  07/11/2014 &              0.44892581763876 \\\\\n",
       "41  &  13/11/2014 &              0.47341951047223 \\\\\n",
       "42  &  24/11/2014 &              0.47633355357180 \\\\\n",
       "43  &  25/11/2014 &              0.42908968669894 \\\\\n",
       "44  &  28/12/2014 &              0.55908206645248 \\\\\n",
       "45  &  08/02/2015 &              0.77621276015597 \\\\\n",
       "46  &  05/03/2015 &              0.90873425217456 \\\\\n",
       "47  &  17/04/2015 &              0.92667019821982 \\\\\n",
       "48  &  08/06/2015 &              0.71200371689888 \\\\\n",
       "49  &  15/06/2015 &              1.01339398726728 \\\\\n",
       "50  &  06/07/2015 &              0.99173413413348 \\\\\n",
       "51  &  21/07/2015 &              0.98136177533947 \\\\\n",
       "52  &  23/07/2015 &              0.98100838803754 \\\\\n",
       "53  &  10/08/2015 &              0.88485062735603 \\\\\n",
       "54  &  28/08/2015 &              0.97413772056845 \\\\\n",
       "55  &  04/10/2015 &              1.01771448196788 \\\\\n",
       "56  &  02/11/2015 &              1.10693441073659 \\\\\n",
       "57  &  29/11/2015 &              0.89978691003764 \\\\\n",
       "58  &  27/12/2015 &              0.87090863710641 \\\\\n",
       "59  &  23/01/2016 &              0.64190401564745 \\\\\n",
       "60  &  26/01/2016 &              0.65329182544038 \\\\\n",
       "61  &  11/02/2016 &              0.68661275460419 \\\\\n",
       "62  &  29/02/2016 &              0.57449252216086 \\\\\n",
       "63  &  03/03/2016 &              0.66960844252450 \\\\\n",
       "64  &  10/03/2016 &              0.61813657967094 \\\\\n",
       "65  &  13/03/2016 &              0.73424509024446 \\\\\n",
       "66  &  17/03/2016 &              0.64003885908416 \\\\\n",
       "67  &  23/03/2016 &              0.58118597610979 \\\\\n",
       "68  &  26/03/2016 &              0.49442722682647 \\\\\n",
       "69  &  03/04/2016 &              0.40964424116065 \\\\\n",
       "70  &  01/05/2016 &              0.65095322163277 \\\\\n",
       "71  &  17/05/2016 &              0.65722660711551 \\\\\n",
       "72  &  22/05/2016 &              0.63332441923583 \\\\\n",
       "73  &  14/07/2016 &              0.48746787061438 \\\\\n",
       "74  &  22/08/2016 &              0.69279691619039 \\\\\n",
       "75  &  11/09/2016 &              0.57612859563420 \\\\\n",
       "76  &  18/09/2016 &              0.70996748200612 \\\\\n",
       "77  &  16/10/2016 &              0.76952135067746 \\\\\n",
       "78  &  19/10/2016 &              0.66339850672491 \\\\\n",
       "79  &  27/10/2016 &              0.62748904135899 \\\\\n",
       "80  &  27/11/2016 &              0.59350884582100 \\\\\n",
       "81  &  08/12/2016 &              0.61962920601633 \\\\\n",
       "82  &  22/12/2016 &              0.55535840349829 \\\\\n",
       "83  &  02/01/2017 &              1.15486093193771 \\\\\n",
       "84  &  06/01/2017 &              1.46690543663681 \\\\\n",
       "85  &  23/01/2017 &              1.53212739558033 \\\\\n",
       "86  &  23/01/2017 &              1.74114935255337 \\\\\n",
       "87  &  03/03/2017 &              0.96668995588757 \\\\\n",
       "88  &  19/03/2017 &              1.36014879416403 \\\\\n",
       "89  &  25/04/2017 &              1.53125240811529 \\\\\n",
       "90  &  31/05/2017 &              0.99662528345007 \\\\\n",
       "91  &  17/06/2017 &              1.12176827310955 \\\\\n",
       "92  &  17/06/2017 &              0.98855925452374 \\\\\n",
       "93  &  13/07/2017 &              1.10201780967532 \\\\\n",
       "94  &  08/08/2017 &              1.20808573980655 \\\\\n",
       "95  &  26/09/2017 &              0.87538040028886 \\\\\n",
       "96  &  26/10/2017 &              1.40919208445982 \\\\\n",
       "97  &  30/10/2017 &              1.16463221372133 \\\\\n",
       "98  &  22/11/2017 &              1.00905827542122 \\\\\n",
       "99  &  05/12/2017 &              1.27779299443169 \\\\\n",
       "100 &  17/12/2017 &              1.06371060197030 \\\\\n",
       "101 &  19/12/2017 &              1.30373379426644 \\\\\n",
       "102 &  25/01/2018 &              1.24893152205061 \\\\\n",
       "103 &  28/01/2018 &              1.38372495877734 \\\\\n",
       "104 &  13/02/2018 &              1.95354442085308 \\\\\n",
       "105 &  03/03/2018 &              1.24918081621130 \\\\\n",
       "106 &  07/03/2018 &              1.73824438398885 \\\\\n",
       "107 &  08/03/2018 &              1.56772394154486 \\\\\n",
       "108 &  29/03/2018 &              1.12941079716073 \\\\\n",
       "109 &  04/04/2018 &              1.78833954912151 \\\\\n",
       "110 &  25/06/2018 &              1.43481423380908 \\\\\n",
       "111 &  19/07/2018 &              1.62629764981335 \\\\\n",
       "112 &  23/07/2018 &              1.87664691306668 \\\\\n",
       "113 &  04/08/2018 &              1.20911456485295 \\\\\n",
       "114 &  25/08/2018 &              1.09915741653977 \\\\\n",
       "115 &  23/09/2018 &              1.10094835455484 \\\\\n",
       "116 &  24/09/2018 &              1.91219881198010 \\\\\n",
       "117 &  13/11/2018 &              1.35758580002022 \\\\\n",
       "118 &  21/11/2018 &              1.76768655918821 \\\\\n",
       "119 &  22/11/2018 &              1.52725627064678 \\\\\n",
       "120 &  08/12/2018 &              2.09455803581975 \\\\\n",
       "\\bottomrule\n",
       "\\end{tabular}\n",
       "}\\end{center}"
      ],
      "text/plain": [
       "           Дата  Суммарная выплата, млрд найр\n",
       "0    13/01/2013              0.40740672629968\n",
       "1    17/01/2013              0.37808702025706\n",
       "2    17/01/2013              0.44022941118532\n",
       "3    28/01/2013              0.37846322639732\n",
       "4    08/02/2013              0.49161161887138\n",
       "5    12/02/2013              0.47385809130551\n",
       "6    14/03/2013              0.55588639937984\n",
       "..          ...                           ...\n",
       "114  25/08/2018              1.09915741653977\n",
       "115  23/09/2018              1.10094835455484\n",
       "116  24/09/2018              1.91219881198010\n",
       "117  13/11/2018              1.35758580002022\n",
       "118  21/11/2018              1.76768655918821\n",
       "119  22/11/2018              1.52725627064678\n",
       "120  08/12/2018              2.09455803581975\n",
       "\n",
       "[121 rows x 2 columns]"
      ]
     },
     "execution_count": 49,
     "metadata": {},
     "output_type": "execute_result"
    }
   ],
   "source": [
    "t_claims"
   ]
  },
  {
   "cell_type": "code",
   "execution_count": 50,
   "metadata": {
    "ExecuteTime": {
     "end_time": "2019-05-19T10:35:20.788836Z",
     "start_time": "2019-05-19T10:35:20.767869Z"
    },
    "cell_style": "split",
    "hidden": true
   },
   "outputs": [
    {
     "data": {
      "text/html": [
       "<div>\n",
       "<style scoped>\n",
       "    .dataframe tbody tr th:only-of-type {\n",
       "        vertical-align: middle;\n",
       "    }\n",
       "\n",
       "    .dataframe tbody tr th {\n",
       "        vertical-align: top;\n",
       "    }\n",
       "\n",
       "    .dataframe thead th {\n",
       "        text-align: right;\n",
       "    }\n",
       "</style>\n",
       "<table border=\"1\" class=\"dataframe\">\n",
       "  <thead>\n",
       "    <tr style=\"text-align: right;\">\n",
       "      <th></th>\n",
       "      <th>Год</th>\n",
       "      <th>Суммарное кол-во взносов, млрд найр</th>\n",
       "    </tr>\n",
       "  </thead>\n",
       "  <tbody>\n",
       "    <tr>\n",
       "      <th>0</th>\n",
       "      <td>2013</td>\n",
       "      <td>23.3160</td>\n",
       "    </tr>\n",
       "    <tr>\n",
       "      <th>1</th>\n",
       "      <td>2014</td>\n",
       "      <td>20.9279</td>\n",
       "    </tr>\n",
       "    <tr>\n",
       "      <th>2</th>\n",
       "      <td>2015</td>\n",
       "      <td>10.4107</td>\n",
       "    </tr>\n",
       "    <tr>\n",
       "      <th>3</th>\n",
       "      <td>2016</td>\n",
       "      <td>30.0293</td>\n",
       "    </tr>\n",
       "    <tr>\n",
       "      <th>4</th>\n",
       "      <td>2017</td>\n",
       "      <td>32.0977</td>\n",
       "    </tr>\n",
       "    <tr>\n",
       "      <th>5</th>\n",
       "      <td>2018</td>\n",
       "      <td>37.0469</td>\n",
       "    </tr>\n",
       "  </tbody>\n",
       "</table>\n",
       "</div>"
      ],
      "text/latex": [
       "\\begin{center}\\scalebox{0.7}{\\begin{tabular}{lrr}\n",
       "\\toprule\n",
       "{} &   Год &  Суммарное кол-во взносов, млрд найр \\\\\n",
       "\\midrule\n",
       "0 &  2013 &                              23.3160 \\\\\n",
       "1 &  2014 &                              20.9279 \\\\\n",
       "2 &  2015 &                              10.4107 \\\\\n",
       "3 &  2016 &                              30.0293 \\\\\n",
       "4 &  2017 &                              32.0977 \\\\\n",
       "5 &  2018 &                              37.0469 \\\\\n",
       "\\bottomrule\n",
       "\\end{tabular}\n",
       "}\\end{center}"
      ],
      "text/plain": [
       "    Год  Суммарное кол-во взносов, млрд найр\n",
       "0  2013                              23.3160\n",
       "1  2014                              20.9279\n",
       "2  2015                              10.4107\n",
       "3  2016                              30.0293\n",
       "4  2017                              32.0977\n",
       "5  2018                              37.0469"
      ]
     },
     "execution_count": 50,
     "metadata": {},
     "output_type": "execute_result"
    }
   ],
   "source": [
    "t_premium"
   ]
  },
  {
   "cell_type": "code",
   "execution_count": 51,
   "metadata": {
    "ExecuteTime": {
     "end_time": "2019-05-19T10:35:50.782066Z",
     "start_time": "2019-05-19T10:35:50.348338Z"
    },
    "hidden": true
   },
   "outputs": [
    {
     "data": {
      "image/png": "[encoded data removed]",
      "text/plain": [
       "<Figure size 432x288 with 1 Axes>"
      ]
     },
     "metadata": {
      "needs_background": "light"
     },
     "output_type": "display_data"
    }
   ],
   "source": [
    "plt.plot(dates_n1, t_claims.iloc[:,1])\n",
    "plt.title('Страховые выплаты за 2013-2018 гг., млрд найр')\n",
    "plt.tick_params(axis = 'x',\n",
    "               which = 'both',\n",
    "               bottom = False,\n",
    "               labelbottom = False);"
   ]
  },
  {
   "cell_type": "code",
   "execution_count": 52,
   "metadata": {
    "ExecuteTime": {
     "end_time": "2019-05-19T10:35:53.415646Z",
     "start_time": "2019-05-19T10:35:52.738034Z"
    },
    "hidden": true,
    "scrolled": true
   },
   "outputs": [
    {
     "data": {
      "image/png": "[encoded data removed]",
      "text/plain": [
       "<Figure size 432x288 with 1 Axes>"
      ]
     },
     "metadata": {
      "needs_background": "light"
     },
     "output_type": "display_data"
    }
   ],
   "source": [
    "\n",
    "plt.plot(t_premium.iloc[:,0], t_premium.iloc[:,1])\n",
    "plt.title('Страховые премии за 2013-2018 гг., млрд найр')\n",
    "plt.ticklabel_format(style='plain');\n",
    "plt.ylim(0, t_premium.iloc[:,1].max()*1.1);"
   ]
  },
  {
   "cell_type": "markdown",
   "metadata": {
    "heading_collapsed": true,
    "hidden": true
   },
   "source": [
    "### Вычисление вероятности разорения"
   ]
  },
  {
   "cell_type": "markdown",
   "metadata": {
    "hidden": true
   },
   "source": [
    "Мы получим вероятность разорения компании тремя способами:\n",
    "\n",
    "1)по оценке аппроксимации Де Вилдера (без проверки гипотезы о виде распределения размера страховых выплат);\n",
    "\n",
    "2)по формуле аппроксимации Де Вилдера;\n",
    "\n",
    "3)по формуле аппроксимации Беекмана-Бауэрса.\n",
    "\n",
    "Для первого способа нам нужно посчитать: $\\hat{\\ld} = \\frac{N(t)}{t}; \\ \\hat{\\mu} = \\overline{X}; \\ \\hat{\\rho} = \\frac{\\overline{\\varsigma_1}\\ld_+t}{N(t)\\overline{X}} - 1,$ где $N(t)$ - количество страховых выплат за $t$ дней, $\\overline{X}$ - выборочное среднее размера выплат, $\\overline{\\varsigma_1}$ - выборочное среднее размера страхового взноса от одного клиента, $\\ld_+$ - интенсивность страховых взносов клиентами.\n",
    "\n",
    "Во втором способе нужно принять одну из гипотез о виде распределения размера страховых выплат, и отсюда найти $\\mu^* = \\frac{\\mu_3}{3\\mu_2}, \\ \\rho^* = \\frac{2\\rho\\mu\\mu_3}{3\\mu_2^2}, \\ \\ld^* = \\frac{9\\hat{\\ld}\\mu_2^3}{2\\mu_3^2},$ (где $\\mu_i$ - первые три начальных момента, $\\rho = \\frac{\\overline{\\varsigma_1}\\ld_+}{\\hat{\\ld}\\mu} - 1$).\n",
    "\n",
    "В третьем способе нужно использовать уже полученные данные для вычисления $\\al = \\frac{\\mu_B^2}{\\sigma_B^2}, \\ \\gamma = \\frac{\\mu_B}{\\sigma_B^2} \\ \\Bigg( где \\ \\mu_B = \\frac{\\mu_2(1 + \\rho)}{2\\rho\\mu}, \\ \\sigma^2_B = \\frac{\\mu_2(1 + \\rho)}{2\\rho\\mu}\\bigg (\\frac{2\\mu_3}{3\\mu_2} + \\frac{\\mu_2(1 - \\rho)}{2\\rho\\mu}\\bigg)\\Bigg)$ ."
   ]
  },
  {
   "cell_type": "markdown",
   "metadata": {
    "hidden": true
   },
   "source": [
    "Для имеющихся реальных данных получаем вероятности 3.54e-7, 4.80e-10 и 3.18e-10 по трем способам соответственно. Это поднимает вопрос о том, что возможно понижение цены премии (если это может привлечь новых клиентов) или принятие иных решений, которые несут некоторый риск, но обещают прибыль в долгосрочной перспективе."
   ]
  },
  {
   "cell_type": "markdown",
   "metadata": {},
   "source": [
    "## Заключение \n",
    "\n",
    "Полученные аппроксимации (и оценка аппроксимации) показывают, что вероятность разорения компании AIICO в условиях нашей модели на бесконечном временном промежутке почти равна нулю. Однако нужно понимать, что это лишь аппроксимации в рамках модели, которая не полностью соответствует реальности, так как процесс поступления взносов является линейным и модель рассматривает лишь поступления взносов и выплат из-за контекста термина \"разорение\" - она не учитывает налоги, выплачиваемые компанией, другие источники денежных средств, например, рынка ценных бумаг, и множество других факторов. Поэтому для анализа страховых компаний в разрезе риска требуются более детальные модели.\n",
    "\n",
    "Итоги курсовой работы: был проверен алгоритм проверки гипотез о законе распределения выборки, с помощью этого алгоритма подобран закон распределения для выборки страховых выплат компании AIICO; успешно найдены три вероятности разорения: по оценке аппроксимации Де Вилдера, по аппроксимации Де Вилдера и по аппроксимации Беекмана–Бауэрса. \n",
    "\n",
    "## Cписок использованных источников\n",
    "[1] В.Ю. Королев, В.Е. Бенинг, Шоргин С.Я. Шоргин Математические основы теории риска М.: Физматлит, 2011. - 591 с. - ISBN 978-5-9221-1267-3.\n",
    "\n",
    "[2] https://www.statisticshowto.datasciencecentral.com/what-is-the-yates-correction/\n",
    "\n",
    "[3] https://www.aiicoplc.com/index.php/about-us-aiico/investor-relations/financial-report\n",
    "\n",
    "[4] https://stackoverflow.com/questions/51894150/python-chi-square-goodness-of-fit-test-to-get-the-best-distribution"
   ]
  },
  {
   "cell_type": "markdown",
   "metadata": {},
   "source": [
    "## Приложения"
   ]
  },
  {
   "cell_type": "code",
   "execution_count": 13,
   "metadata": {
    "ExecuteTime": {
     "end_time": "2019-05-22T16:18:24.385816Z",
     "start_time": "2019-05-22T16:18:24.356831Z"
    },
    "init_cell": true
   },
   "outputs": [],
   "source": [
    "# Imports \n",
    "import numpy as np\n",
    "import matplotlib.pyplot as plt\n",
    "import seaborn\n",
    "import scipy.stats as st\n",
    "import pandas as pd\n",
    "pd.set_option(\"display.max_rows\", 15)\n",
    "pd.set_option(\"display.max_colwidth\", 100)\n",
    "pd.set_option(\"display.precision\", 14)\n",
    "import sympy as sp\n",
    "from IPython.display import display, Math, Markdown\n",
    "from IPython.core.interactiveshell import InteractiveShell\n",
    "InteractiveShell.ast_node_interactivity = 'all'\n",
    "ip = get_ipython() \n",
    "ibe = ip.configurables[-1] \n",
    "ibe.figure_formats = { 'pdf', 'png'}\n",
    "def _repr_latex_(self): \n",
    "    return r'\\begin{center}\\scalebox{0.7}{%s}\\end{center}' % self.to_latex() \n",
    "pd.set_option('display.notebook_repr_html', True) \n",
    "pd.DataFrame._repr_latex_ = _repr_latex_"
   ]
  },
  {
   "cell_type": "code",
   "execution_count": 9,
   "metadata": {
    "ExecuteTime": {
     "end_time": "2019-05-22T15:13:20.963917Z",
     "start_time": "2019-05-22T15:13:20.921947Z"
    }
   },
   "outputs": [],
   "source": [
    "# Реализация критерия согласия хи-квадрат \n",
    "def best_dist(data):\n",
    "# распределения, наиболее часто употребляемые в качестве распределения размера страховой выплаты:\n",
    "    dist_names = ['uniform', 'gamma', 'expon', 'lognorm', 'weibull_min', 'chi', 'rayleigh']\n",
    "    \n",
    "    from math import isnan\n",
    "    from sys import maxsize\n",
    "    \n",
    "    # разбиваем область определения выборки на k равных интервалов (k определяется либо правилом Стерджеса, либо Фридмана Диакониса (выбирается то, что дает большее k))\n",
    "    histo, bin_edges = np.histogram(data, bins='auto')\n",
    "    number_of_bins = len(bin_edges) - 1\n",
    "    observed_values = histo\n",
    "    \n",
    "    # подбираем самые близкие параметры распределений к выборке. params примет вид {'имя распределения':функция распределения с подобранными параметрами}\n",
    "    params = {}\n",
    "    \n",
    "    for dist_name in dist_names:\n",
    "        try:\n",
    "            dist = getattr(st, dist_name)   # ~ dist = st.имя_распределения \n",
    "            param = dist.fit(data)       #подбираем параметры методом максимального правдоподобия\n",
    "            params[dist_name] = param\n",
    "        except Exception:\n",
    "            print(\"Error occurred in fitting\")\n",
    "            params[dist_name] = \"Error\"\n",
    "\n",
    "    dist_results = []\n",
    "    \n",
    "    for dist_name in dist_names:\n",
    "\n",
    "        param = params[dist_name]\n",
    "        if (param != \"Error\"):\n",
    "            # Applying the SSE test\n",
    "            arg = param[:-2]\n",
    "            loc = param[-2]\n",
    "            scale = param[-1]\n",
    "            # значения функции распределения (cdf) и разницы между соседними значениями cdf, умноженные на объем выборки (expected_values)\n",
    "            cdf = getattr(st, dist_name).cdf(bin_edges, loc=loc, scale=scale, *arg)\n",
    "            expected_values = len(data) * np.diff(cdf)\n",
    "            np.place(expected_values, expected_values==0, 10**-10)\n",
    "            # объединяем два массива в один для использования функции chi2_contingency\n",
    "            exp_obs_values = np.array((observed_values, expected_values))\n",
    "            # c - значение статистики критерия, p - p-value\n",
    "            c , p, *_ = st.chi2_contingency(exp_obs_values)\n",
    "            dist_results.append([dist_name, c, p])\n",
    "            \n",
    "    # select the best fitted distribution\n",
    "    best_dist, best_c, best_p= None, maxsize, 0\n",
    "\n",
    "    for item in dist_results:\n",
    "        name = item[0]\n",
    "        c = item[1]\n",
    "        p = item[2]\n",
    "        if (not isnan(c)):\n",
    "            if (c < best_c):\n",
    "                best_c = c\n",
    "                best_dist = name\n",
    "                best_p = p\n",
    "    best_a = st.chi2.cdf(best_c, number_of_bins - len(param)) #len(param) - количество неизвестных параметров\n",
    "    \n",
    "    # table - результаты в виде таблицы\n",
    "    t_index = [\"Best fitting distribution:\", \"Best c value:\", \"Best p value:\", \"Parameters for the best fit:\", \"Type I error:\"]\n",
    "    table = pd.DataFrame([best_dist, best_c, best_p, params[best_dist], best_a], columns = [''], index = t_index)\n",
    "    \n",
    "    return best_dist, best_c, params[best_dist], dist_results, best_a, table"
   ]
  },
  {
   "cell_type": "code",
   "execution_count": 7,
   "metadata": {
    "ExecuteTime": {
     "end_time": "2019-05-22T15:02:00.493616Z",
     "start_time": "2019-05-22T15:01:59.967924Z"
    },
    "scrolled": true
   },
   "outputs": [
    {
     "data": {
      "image/png": "[encoded data removed]",
      "text/plain": [
       "<Figure size 432x288 with 1 Axes>"
      ]
     },
     "metadata": {
      "needs_background": "light"
     },
     "output_type": "display_data"
    }
   ],
   "source": [
    "#у вектора x2 шаг меньше, чтобы были видны различия между графиками\n",
    "x1 = np.arange(-5, 5, 0.01) \n",
    "x2 = np.arange(-5, 5, 0.1) \n",
    "y1 = st.norm.pdf(x1) #плотности распределений\n",
    "y2 = st.gamma.pdf(x2, 36632.30650075304, -189.21656328027439, 0.00516493776007497)\n",
    "plt.scatter(x1, y1, color='gray') \n",
    "plt.scatter(x2, y2, color='black')\n",
    "plt.title('Плотности стандартного нормального (серый цвет) и гамма (черный цвет) распределений');"
   ]
  },
  {
   "cell_type": "code",
   "execution_count": 18,
   "metadata": {
    "ExecuteTime": {
     "end_time": "2019-05-14T15:43:07.465308Z",
     "start_time": "2019-05-14T15:43:06.122997Z"
    },
    "scrolled": true
   },
   "outputs": [
    {
     "data": {
      "text/html": [
       "<div>\n",
       "<style scoped>\n",
       "    .dataframe tbody tr th:only-of-type {\n",
       "        vertical-align: middle;\n",
       "    }\n",
       "\n",
       "    .dataframe tbody tr th {\n",
       "        vertical-align: top;\n",
       "    }\n",
       "\n",
       "    .dataframe thead th {\n",
       "        text-align: right;\n",
       "    }\n",
       "</style>\n",
       "<table border=\"1\" class=\"dataframe\">\n",
       "  <thead>\n",
       "    <tr style=\"text-align: right;\">\n",
       "      <th></th>\n",
       "      <th>Распределение: равномерное, 5, 20</th>\n",
       "    </tr>\n",
       "  </thead>\n",
       "  <tbody>\n",
       "    <tr>\n",
       "      <th>Best fitting distribution:</th>\n",
       "      <td>uniform</td>\n",
       "    </tr>\n",
       "    <tr>\n",
       "      <th>Best c value:</th>\n",
       "      <td>5.0453735581151</td>\n",
       "    </tr>\n",
       "    <tr>\n",
       "      <th>Best p value:</th>\n",
       "      <td>0.88812646680803</td>\n",
       "    </tr>\n",
       "    <tr>\n",
       "      <th>Parameters for the best fit:</th>\n",
       "      <td>(5.019437776251886, 14.97837887335677)</td>\n",
       "    </tr>\n",
       "    <tr>\n",
       "      <th>Type I error:</th>\n",
       "      <td>0.16966487769969</td>\n",
       "    </tr>\n",
       "  </tbody>\n",
       "</table>\n",
       "</div>"
      ],
      "text/latex": [
       "\\begin{center}\\scalebox{0.7}{\\begin{tabular}{ll}\n",
       "\\toprule\n",
       "{} &       Распределение: равномерное, 5, 20 \\\\\n",
       "\\midrule\n",
       "Best fitting distribution:   &                                 uniform \\\\\n",
       "Best c value:                &                         5.0453735581151 \\\\\n",
       "Best p value:                &                        0.88812646680803 \\\\\n",
       "Parameters for the best fit: &  (5.019437776251886, 14.97837887335677) \\\\\n",
       "Type I error:                &                        0.16966487769969 \\\\\n",
       "\\bottomrule\n",
       "\\end{tabular}\n",
       "}\\end{center}"
      ],
      "text/plain": [
       "                                   Распределение: равномерное, 5, 20\n",
       "Best fitting distribution:                                   uniform\n",
       "Best c value:                                        5.0453735581151\n",
       "Best p value:                                       0.88812646680803\n",
       "Parameters for the best fit:  (5.019437776251886, 14.97837887335677)\n",
       "Type I error:                                       0.16966487769969"
      ]
     },
     "execution_count": 18,
     "metadata": {},
     "output_type": "execute_result"
    }
   ],
   "source": [
    "sample1 = np.random.uniform(5, 20, 1000)\n",
    "dist, c, params, dist_results, a, t = best_dist(sample1)\n",
    "t.columns = ['Распределение: равномерное, 5, 20']\n",
    "t"
   ]
  },
  {
   "cell_type": "code",
   "execution_count": 19,
   "metadata": {
    "ExecuteTime": {
     "end_time": "2019-05-14T15:43:16.379870Z",
     "start_time": "2019-05-14T15:43:13.296773Z"
    },
    "scrolled": false
   },
   "outputs": [
    {
     "data": {
      "text/html": [
       "<div>\n",
       "<style scoped>\n",
       "    .dataframe tbody tr th:only-of-type {\n",
       "        vertical-align: middle;\n",
       "    }\n",
       "\n",
       "    .dataframe tbody tr th {\n",
       "        vertical-align: top;\n",
       "    }\n",
       "\n",
       "    .dataframe thead th {\n",
       "        text-align: right;\n",
       "    }\n",
       "</style>\n",
       "<table border=\"1\" class=\"dataframe\">\n",
       "  <thead>\n",
       "    <tr style=\"text-align: right;\">\n",
       "      <th></th>\n",
       "      <th>Распределение: нормальное, 0, 1</th>\n",
       "    </tr>\n",
       "  </thead>\n",
       "  <tbody>\n",
       "    <tr>\n",
       "      <th>Best fitting distribution:</th>\n",
       "      <td>gamma</td>\n",
       "    </tr>\n",
       "    <tr>\n",
       "      <th>Best c value:</th>\n",
       "      <td>28.458863110099</td>\n",
       "    </tr>\n",
       "    <tr>\n",
       "      <th>Best p value:</th>\n",
       "      <td>0.99997735190956</td>\n",
       "    </tr>\n",
       "    <tr>\n",
       "      <th>Parameters for the best fit:</th>\n",
       "      <td>(36632.30650075304, -189.21656328027439, 0.00516493776007497)</td>\n",
       "    </tr>\n",
       "    <tr>\n",
       "      <th>Type I error:</th>\n",
       "      <td>3.4716722463026e-05</td>\n",
       "    </tr>\n",
       "  </tbody>\n",
       "</table>\n",
       "</div>"
      ],
      "text/latex": [
       "\\begin{center}\\scalebox{0.7}{\\begin{tabular}{ll}\n",
       "\\toprule\n",
       "{} &                                Распределение: нормальное, 0, 1 \\\\\n",
       "\\midrule\n",
       "Best fitting distribution:   &                                                          gamma \\\\\n",
       "Best c value:                &                                                28.458863110099 \\\\\n",
       "Best p value:                &                                               0.99997735190956 \\\\\n",
       "Parameters for the best fit: &  (36632.30650075304, -189.21656328027439, 0.00516493776007497) \\\\\n",
       "Type I error:                &                                            3.4716722463026e-05 \\\\\n",
       "\\bottomrule\n",
       "\\end{tabular}\n",
       "}\\end{center}"
      ],
      "text/plain": [
       "                                                            Распределение: нормальное, 0, 1\n",
       "Best fitting distribution:                                                            gamma\n",
       "Best c value:                                                               28.458863110099\n",
       "Best p value:                                                              0.99997735190956\n",
       "Parameters for the best fit:  (36632.30650075304, -189.21656328027439, 0.00516493776007497)\n",
       "Type I error:                                                           3.4716722463026e-05"
      ]
     },
     "execution_count": 19,
     "metadata": {},
     "output_type": "execute_result"
    }
   ],
   "source": [
    "sample2 = np.random.normal(size = 10000)\n",
    "dist, c, params, dist_results, a, t = best_dist(sample2)\n",
    "t.columns = ['Распределение: нормальное, 0, 1']\n",
    "t"
   ]
  },
  {
   "cell_type": "code",
   "execution_count": 20,
   "metadata": {
    "ExecuteTime": {
     "end_time": "2019-05-14T15:43:22.911161Z",
     "start_time": "2019-05-14T15:43:19.923805Z"
    },
    "scrolled": true
   },
   "outputs": [
    {
     "data": {
      "text/html": [
       "<div>\n",
       "<style scoped>\n",
       "    .dataframe tbody tr th:only-of-type {\n",
       "        vertical-align: middle;\n",
       "    }\n",
       "\n",
       "    .dataframe tbody tr th {\n",
       "        vertical-align: top;\n",
       "    }\n",
       "\n",
       "    .dataframe thead th {\n",
       "        text-align: right;\n",
       "    }\n",
       "</style>\n",
       "<table border=\"1\" class=\"dataframe\">\n",
       "  <thead>\n",
       "    <tr style=\"text-align: right;\">\n",
       "      <th></th>\n",
       "      <th>Распределение: гамма, 5</th>\n",
       "    </tr>\n",
       "  </thead>\n",
       "  <tbody>\n",
       "    <tr>\n",
       "      <th>Best fitting distribution:</th>\n",
       "      <td>gamma</td>\n",
       "    </tr>\n",
       "    <tr>\n",
       "      <th>Best c value:</th>\n",
       "      <td>27.97418820701</td>\n",
       "    </tr>\n",
       "    <tr>\n",
       "      <th>Best p value:</th>\n",
       "      <td>0.99994104416364</td>\n",
       "    </tr>\n",
       "    <tr>\n",
       "      <th>Parameters for the best fit:</th>\n",
       "      <td>(5.156357380053214, -0.02483490363486638, 0.9818222582614679)</td>\n",
       "    </tr>\n",
       "    <tr>\n",
       "      <th>Type I error:</th>\n",
       "      <td>8.9125037480197e-05</td>\n",
       "    </tr>\n",
       "  </tbody>\n",
       "</table>\n",
       "</div>"
      ],
      "text/latex": [
       "\\begin{center}\\scalebox{0.7}{\\begin{tabular}{ll}\n",
       "\\toprule\n",
       "{} &                                        Распределение: гамма, 5 \\\\\n",
       "\\midrule\n",
       "Best fitting distribution:   &                                                          gamma \\\\\n",
       "Best c value:                &                                                 27.97418820701 \\\\\n",
       "Best p value:                &                                               0.99994104416364 \\\\\n",
       "Parameters for the best fit: &  (5.156357380053214, -0.02483490363486638, 0.9818222582614679) \\\\\n",
       "Type I error:                &                                            8.9125037480197e-05 \\\\\n",
       "\\bottomrule\n",
       "\\end{tabular}\n",
       "}\\end{center}"
      ],
      "text/plain": [
       "                                                                    Распределение: гамма, 5\n",
       "Best fitting distribution:                                                            gamma\n",
       "Best c value:                                                                27.97418820701\n",
       "Best p value:                                                              0.99994104416364\n",
       "Parameters for the best fit:  (5.156357380053214, -0.02483490363486638, 0.9818222582614679)\n",
       "Type I error:                                                           8.9125037480197e-05"
      ]
     },
     "execution_count": 20,
     "metadata": {},
     "output_type": "execute_result"
    }
   ],
   "source": [
    "sample4 = np.random.gamma(5, size = 10000)\n",
    "dist, c, params, dist_results, a, t = best_dist(sample4)\n",
    "t.columns = ['Распределение: гамма, 5']\n",
    "t"
   ]
  },
  {
   "cell_type": "code",
   "execution_count": 2,
   "metadata": {
    "ExecuteTime": {
     "end_time": "2019-05-22T14:54:57.477190Z",
     "start_time": "2019-05-22T14:54:56.593455Z"
    }
   },
   "outputs": [],
   "source": [
    "# предварительный анализ данных\n",
    "from datetime import date, datetime, timedelta\n",
    "\n",
    "t_claims = pd.read_csv('Claims data.csv') # считываем csv файлы\n",
    "t_premium = pd.read_csv('Premiums data.csv')\n",
    "\n",
    "dates_d1 = [datetime.strptime(i,'%d/%m/%Y') for i in t_claims.iloc[:,0]] # даты выплат в формате datetime\n",
    "dates_n1 = pd.Series([int((i - dates_d1[0]).days) for i in dates_d1]) # дни как количество \n",
    "dates_n2 = pd.Series([i*365 for i in range(6)])"
   ]
  },
  {
   "cell_type": "code",
   "execution_count": 51,
   "metadata": {
    "ExecuteTime": {
     "end_time": "2019-05-19T10:35:50.782066Z",
     "start_time": "2019-05-19T10:35:50.348338Z"
    }
   },
   "outputs": [
    {
     "data": {
      "image/png": "[encoded data removed]",
      "text/plain": [
       "<Figure size 432x288 with 1 Axes>"
      ]
     },
     "metadata": {
      "needs_background": "light"
     },
     "output_type": "display_data"
    }
   ],
   "source": [
    "plt.plot(dates_n1, t_claims.iloc[:,1])\n",
    "plt.title('Страховые выплаты за 2013-2018 гг., млрд найр')\n",
    "plt.tick_params(axis = 'x',\n",
    "               which = 'both',\n",
    "               bottom = False,\n",
    "               labelbottom = False);"
   ]
  },
  {
   "cell_type": "code",
   "execution_count": 52,
   "metadata": {
    "ExecuteTime": {
     "end_time": "2019-05-19T10:35:53.415646Z",
     "start_time": "2019-05-19T10:35:52.738034Z"
    },
    "scrolled": true
   },
   "outputs": [
    {
     "data": {
      "image/png": "[encoded data removed]",
      "text/plain": [
       "<Figure size 432x288 with 1 Axes>"
      ]
     },
     "metadata": {
      "needs_background": "light"
     },
     "output_type": "display_data"
    }
   ],
   "source": [
    "\n",
    "plt.plot(t_premium.iloc[:,0], t_premium.iloc[:,1])\n",
    "plt.title('Страховые премии за 2013-2018 гг., млрд найр')\n",
    "plt.ticklabel_format(style='plain');\n",
    "plt.ylim(0, t_premium.iloc[:,1].max()*1.1);"
   ]
  },
  {
   "cell_type": "code",
   "execution_count": 4,
   "metadata": {
    "ExecuteTime": {
     "end_time": "2019-05-22T14:56:03.371544Z",
     "start_time": "2019-05-22T14:56:02.990015Z"
    }
   },
   "outputs": [
    {
     "data": {
      "text/plain": [
       "3.54746330616640e-7"
      ]
     },
     "execution_count": 4,
     "metadata": {},
     "output_type": "execute_result"
    }
   ],
   "source": [
    "# Вычисления вероятности риска\n",
    "# 1-ый способ\n",
    "sg_ = 9342.5/10**9 # выборочное среднее размера страхового взноса от одного клиента \n",
    "u = 35.054680 # начальный капитал\n",
    "t = 365*5 # количество дней\n",
    "N = len(t_claims.iloc[:,1]) # количество страховых выплат\n",
    "X_ = t_claims.iloc[:,1].mean() # выборочное среднее размера выплат\n",
    "ld_plus = t_premium.iloc[:,1].sum()/sg_/t # интенсивность страховых взносов клиентами\n",
    "ld1 = N/t # оценка интенсивности выплат процесса R*(t)\n",
    "mu1 = X_ # оценка начального момента процесса R*(t)\n",
    "rho1 = sg_*ld_plus*t/(N*X_) - 1 # нагрузка безопасности\n",
    "psi1 = (1 + rho1)**-1*sp.exp(-rho1*u/(mu1*(1 + rho1)))\n",
    "psi1"
   ]
  },
  {
   "cell_type": "code",
   "execution_count": 10,
   "metadata": {
    "ExecuteTime": {
     "end_time": "2019-05-22T15:13:27.139940Z",
     "start_time": "2019-05-22T15:13:26.281504Z"
    }
   },
   "outputs": [
    {
     "data": {
      "text/plain": [
       "4.80136157717899e-10"
      ]
     },
     "execution_count": 10,
     "metadata": {},
     "output_type": "execute_result"
    }
   ],
   "source": [
    "# 2-ой способ\n",
    "dist, c, params, dist_results, a, table = best_dist(t_claims.iloc[:,1]) # выбираем гипотезу о виде распределения страховых выплат\n",
    "mu2 = [getattr(st, dist).moment(n, *params) for n in range(1,4)]  # начальные моменты порядка 1,2,3\n",
    "ld2 = N/t\n",
    "rho2 = sg_*ld_plus/(ld2*mu2[0]) - 1\n",
    "# параметры процесса R*(t):\n",
    "mu2_a = mu2[2]/(3*mu2[1]) \n",
    "rho2_a = 2*rho2*mu2[0]*mu2[2]/(3*mu2[1]**2)\n",
    "ld2_a = 9*ld2*mu2[1]**3/(2*mu2[2]**2)\n",
    "psi2 = (1 + rho2_a)**-1*sp.exp(-rho2_a*u/(mu2_a*(1 + rho2_a)))\n",
    "psi2"
   ]
  },
  {
   "cell_type": "code",
   "execution_count": 55,
   "metadata": {
    "ExecuteTime": {
     "end_time": "2019-05-19T10:38:12.041604Z",
     "start_time": "2019-05-19T10:38:12.022618Z"
    }
   },
   "outputs": [
    {
     "data": {
      "text/plain": [
       "3.1828243267664725e-10"
      ]
     },
     "execution_count": 55,
     "metadata": {},
     "output_type": "execute_result"
    }
   ],
   "source": [
    "# 3-ий способ\n",
    "mu3, rho3, ld3 = mu2, rho2, ld2\n",
    "mu_B = mu3[1]*(1 + rho3)/(2*rho3*mu3[0])\n",
    "sg_B = mu_B*(2*mu3[2]/(3*mu3[1]) + mu3[1]*(1 - rho3)/(2*rho3*mu3[0]))\n",
    "al = mu_B**2/sg_B\n",
    "g = mu_B/sg_B\n",
    "psi3 = (1 - st.gamma.cdf(u,al,scale=1/g))/(1 + rho3)\n",
    "psi3"
   ]
  }
 ],
 "metadata": {
  "celltoolbar": "Initialization Cell",
  "kernelspec": {
   "display_name": "Python 3",
   "language": "python",
   "name": "python3"
  },
  "language_info": {
   "codemirror_mode": {
    "name": "ipython",
    "version": 3
   },
   "file_extension": ".py",
   "mimetype": "text/x-python",
   "name": "python",
   "nbconvert_exporter": "python",
   "pygments_lexer": "ipython3",
   "version": "3.7.1"
  },
  "latex_envs": {
   "LaTeX_envs_menu_present": true,
   "autoclose": true,
   "autocomplete": true,
   "bibliofile": "biblio.bib",
   "cite_by": "apalike",
   "current_citInitial": 1,
   "eqLabelWithNumbers": true,
   "eqNumInitial": 1,
   "hotkeys": {
    "equation": "a,s,d,s",
    "itemize": "Ctrl-I"
   },
   "labels_anchors": false,
   "latex_user_defs": false,
   "report_style_numbering": false,
   "user_envs_cfg": false
  },
  "notify_time": "30"
 },
 "nbformat": 4,
 "nbformat_minor": 2
}
